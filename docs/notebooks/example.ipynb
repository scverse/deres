{
 "cells": [
  {
   "cell_type": "markdown",
   "metadata": {},
   "source": [
    "# Example notebook"
   ]
  },
  {
   "cell_type": "code",
   "execution_count": 1,
   "metadata": {},
   "outputs": [],
   "source": [
    "%load_ext autoreload\n",
    "%autoreload 2"
   ]
  },
  {
   "cell_type": "code",
   "execution_count": 2,
   "metadata": {},
   "outputs": [
    {
     "name": "stderr",
     "output_type": "stream",
     "text": [
      "/home/sturm/projects/scverse/deres/.venv/lib/python3.11/site-packages/tqdm/auto.py:21: TqdmWarning: IProgress not found. Please update jupyter and ipywidgets. See https://ipywidgets.readthedocs.io/en/stable/user_install.html\n",
      "  from .autonotebook import tqdm as notebook_tqdm\n"
     ]
    }
   ],
   "source": [
    "import pertpy\n",
    "from deres import DEResult\n",
    "import scanpy as sc\n",
    "import numpy as np\n",
    "import pandas as pd"
   ]
  },
  {
   "cell_type": "code",
   "execution_count": 3,
   "metadata": {},
   "outputs": [],
   "source": [
    "adata = sc.datasets.pbmc3k_processed()"
   ]
  },
  {
   "cell_type": "code",
   "execution_count": 4,
   "metadata": {},
   "outputs": [],
   "source": [
    "adata.obs[\"sample\"] = pd.Categorical(np.random.randint(0, 10, adata.shape[0]))\n",
    "adata = sc.AnnData(adata.raw.X, obs=adata.obs, var=adata.raw.var)"
   ]
  },
  {
   "cell_type": "code",
   "execution_count": 5,
   "metadata": {},
   "outputs": [
    {
     "data": {
      "application/vnd.microsoft.datawrangler.viewer.v0+json": {
       "columns": [
        {
         "name": "index",
         "rawType": "object",
         "type": "string"
        },
        {
         "name": "n_genes",
         "rawType": "int64",
         "type": "integer"
        },
        {
         "name": "percent_mito",
         "rawType": "float32",
         "type": "float"
        },
        {
         "name": "n_counts",
         "rawType": "float32",
         "type": "float"
        },
        {
         "name": "louvain",
         "rawType": "category",
         "type": "unknown"
        },
        {
         "name": "sample",
         "rawType": "category",
         "type": "unknown"
        }
       ],
       "conversionMethod": "pd.DataFrame",
       "ref": "bd5e72ce-0b1c-417d-9f0b-a05289293f34",
       "rows": [
        [
         "AAACATACAACCAC-1",
         "781",
         "0.030177759",
         "2419.0",
         "CD4 T cells",
         "7"
        ],
        [
         "AAACATTGAGCTAC-1",
         "1352",
         "0.037935957",
         "4903.0",
         "B cells",
         "2"
        ],
        [
         "AAACATTGATCAGC-1",
         "1131",
         "0.008897362",
         "3147.0",
         "CD4 T cells",
         "9"
        ],
        [
         "AAACCGTGCTTCCG-1",
         "960",
         "0.017430846",
         "2639.0",
         "CD14+ Monocytes",
         "2"
        ],
        [
         "AAACCGTGTATGCG-1",
         "522",
         "0.012244898",
         "980.0",
         "NK cells",
         "8"
        ],
        [
         "AAACGCACTGGTAC-1",
         "782",
         "0.01664355",
         "2163.0",
         "CD8 T cells",
         "8"
        ],
        [
         "AAACGCTGACCAGT-1",
         "783",
         "0.03816092",
         "2175.0",
         "CD8 T cells",
         "4"
        ],
        [
         "AAACGCTGGTTCTT-1",
         "790",
         "0.030973451",
         "2260.0",
         "CD8 T cells",
         "4"
        ],
        [
         "AAACGCTGTAGCCA-1",
         "533",
         "0.011764706",
         "1275.0",
         "CD4 T cells",
         "3"
        ],
        [
         "AAACGCTGTTTCTG-1",
         "550",
         "0.029011786",
         "1103.0",
         "FCGR3A+ Monocytes",
         "2"
        ],
        [
         "AAACTTGAAAAACG-1",
         "1116",
         "0.02631579",
         "3914.0",
         "B cells",
         "2"
        ],
        [
         "AAACTTGATCCAGA-1",
         "751",
         "0.010887772",
         "2388.0",
         "CD4 T cells",
         "6"
        ],
        [
         "AAAGAGACGAGATA-1",
         "866",
         "0.010788382",
         "2410.0",
         "CD4 T cells",
         "2"
        ],
        [
         "AAAGAGACGCGAGA-1",
         "1059",
         "0.014177382",
         "3033.0",
         "CD14+ Monocytes",
         "4"
        ],
        [
         "AAAGAGACGGACTT-1",
         "458",
         "0.023457862",
         "1151.0",
         "CD8 T cells",
         "4"
        ],
        [
         "AAAGAGACGGCATT-1",
         "335",
         "0.0239899",
         "792.0",
         "CD4 T cells",
         "5"
        ],
        [
         "AAAGCAGATATCGG-1",
         "1424",
         "0.013961606",
         "4584.0",
         "CD14+ Monocytes",
         "4"
        ],
        [
         "AAAGCCTGTATGCG-1",
         "1014",
         "0.017076503",
         "2928.0",
         "CD4 T cells",
         "1"
        ],
        [
         "AAAGGCCTGTCTAG-1",
         "1446",
         "0.015282526",
         "4973.0",
         "B cells",
         "9"
        ],
        [
         "AAAGTTTGATCACG-1",
         "446",
         "0.034700315",
         "1268.0",
         "B cells",
         "0"
        ],
        [
         "AAAGTTTGGGGTGA-1",
         "1020",
         "0.025906736",
         "3281.0",
         "B cells",
         "7"
        ],
        [
         "AAAGTTTGTAGAGA-1",
         "417",
         "0.015426497",
         "1102.0",
         "CD4 T cells",
         "6"
        ],
        [
         "AAAGTTTGTAGCGT-1",
         "878",
         "0.024972046",
         "2683.0",
         "CD14+ Monocytes",
         "8"
        ],
        [
         "AAATCAACAATGCC-1",
         "789",
         "0.01164295",
         "2319.0",
         "B cells",
         "4"
        ],
        [
         "AAATCAACACCAGT-1",
         "510",
         "0.019830028",
         "1412.0",
         "CD4 T cells",
         "8"
        ],
        [
         "AAATCAACCAGGAG-1",
         "824",
         "0.0225",
         "2800.0",
         "CD4 T cells",
         "6"
        ],
        [
         "AAATCAACCCTATT-1",
         "1545",
         "0.024312897",
         "5676.0",
         "CD4 T cells",
         "5"
        ],
        [
         "AAATCAACGGAAGC-1",
         "996",
         "0.017564066",
         "3473.0",
         "CD4 T cells",
         "7"
        ],
        [
         "AAATCAACTCGCAA-1",
         "937",
         "0.018498754",
         "2811.0",
         "CD4 T cells",
         "0"
        ],
        [
         "AAATCATGACCACA-1",
         "1368",
         "0.045784883",
         "4128.0",
         "FCGR3A+ Monocytes",
         "8"
        ],
        [
         "AAATCCCTCCACAA-1",
         "428",
         "0.019895287",
         "955.0",
         "CD8 T cells",
         "6"
        ],
        [
         "AAATCCCTGCTATG-1",
         "406",
         "0.01703163",
         "822.0",
         "B cells",
         "2"
        ],
        [
         "AAATGTTGAACGAA-1",
         "1020",
         "0.019326683",
         "3208.0",
         "CD14+ Monocytes",
         "8"
        ],
        [
         "AAATGTTGCCACAA-1",
         "786",
         "0.00625",
         "1760.0",
         "CD4 T cells",
         "9"
        ],
        [
         "AAATGTTGTGGCAT-1",
         "1019",
         "0.019195944",
         "2761.0",
         "CD14+ Monocytes",
         "8"
        ],
        [
         "AAATTCGAAGGTTC-1",
         "750",
         "0.022262774",
         "2740.0",
         "CD4 T cells",
         "6"
        ],
        [
         "AAATTCGAATCACG-1",
         "822",
         "0.01986755",
         "2567.0",
         "CD14+ Monocytes",
         "5"
        ],
        [
         "AAATTCGAGCTGAT-1",
         "982",
         "0.021892894",
         "2969.0",
         "FCGR3A+ Monocytes",
         "6"
        ],
        [
         "AAATTCGAGGAGTG-1",
         "876",
         "0.024848891",
         "2978.0",
         "CD4 T cells",
         "6"
        ],
        [
         "AAATTCGATTCTCA-1",
         "930",
         "0.01438849",
         "2641.0",
         "CD8 T cells",
         "3"
        ],
        [
         "AAATTGACACGACT-1",
         "838",
         "0.021213407",
         "2357.0",
         "CD8 T cells",
         "3"
        ],
        [
         "AAATTGACTCGCTC-1",
         "1014",
         "0.014951627",
         "3411.0",
         "CD8 T cells",
         "7"
        ],
        [
         "AACAAACTCATTTC-1",
         "732",
         "0.014233242",
         "2178.0",
         "CD4 T cells",
         "5"
        ],
        [
         "AACAAACTTTCGTT-1",
         "877",
         "0.017113095",
         "2688.0",
         "CD4 T cells",
         "7"
        ],
        [
         "AACAATACGACGAG-1",
         "782",
         "0.029942965",
         "2104.0",
         "CD4 T cells",
         "5"
        ],
        [
         "AACACGTGCAGAGG-1",
         "787",
         "0.00889383",
         "1799.0",
         "CD4 T cells",
         "8"
        ],
        [
         "AACACGTGGAAAGT-1",
         "791",
         "0.010270065",
         "2629.0",
         "CD4 T cells",
         "5"
        ],
        [
         "AACACGTGGAACCT-1",
         "880",
         "0.022368422",
         "2280.0",
         "CD14+ Monocytes",
         "8"
        ],
        [
         "AACACGTGGCTACA-1",
         "801",
         "0.02413273",
         "2652.0",
         "CD4 T cells",
         "6"
        ],
        [
         "AACACGTGTACGAC-1",
         "1215",
         "0.027458671",
         "3569.0",
         "FCGR3A+ Monocytes",
         "7"
        ]
       ],
       "shape": {
        "columns": 5,
        "rows": 2638
       }
      },
      "text/html": [
       "<div>\n",
       "<style scoped>\n",
       "    .dataframe tbody tr th:only-of-type {\n",
       "        vertical-align: middle;\n",
       "    }\n",
       "\n",
       "    .dataframe tbody tr th {\n",
       "        vertical-align: top;\n",
       "    }\n",
       "\n",
       "    .dataframe thead th {\n",
       "        text-align: right;\n",
       "    }\n",
       "</style>\n",
       "<table border=\"1\" class=\"dataframe\">\n",
       "  <thead>\n",
       "    <tr style=\"text-align: right;\">\n",
       "      <th></th>\n",
       "      <th>n_genes</th>\n",
       "      <th>percent_mito</th>\n",
       "      <th>n_counts</th>\n",
       "      <th>louvain</th>\n",
       "      <th>sample</th>\n",
       "    </tr>\n",
       "    <tr>\n",
       "      <th>index</th>\n",
       "      <th></th>\n",
       "      <th></th>\n",
       "      <th></th>\n",
       "      <th></th>\n",
       "      <th></th>\n",
       "    </tr>\n",
       "  </thead>\n",
       "  <tbody>\n",
       "    <tr>\n",
       "      <th>AAACATACAACCAC-1</th>\n",
       "      <td>781</td>\n",
       "      <td>0.030178</td>\n",
       "      <td>2419.0</td>\n",
       "      <td>CD4 T cells</td>\n",
       "      <td>7</td>\n",
       "    </tr>\n",
       "    <tr>\n",
       "      <th>AAACATTGAGCTAC-1</th>\n",
       "      <td>1352</td>\n",
       "      <td>0.037936</td>\n",
       "      <td>4903.0</td>\n",
       "      <td>B cells</td>\n",
       "      <td>2</td>\n",
       "    </tr>\n",
       "    <tr>\n",
       "      <th>AAACATTGATCAGC-1</th>\n",
       "      <td>1131</td>\n",
       "      <td>0.008897</td>\n",
       "      <td>3147.0</td>\n",
       "      <td>CD4 T cells</td>\n",
       "      <td>9</td>\n",
       "    </tr>\n",
       "    <tr>\n",
       "      <th>AAACCGTGCTTCCG-1</th>\n",
       "      <td>960</td>\n",
       "      <td>0.017431</td>\n",
       "      <td>2639.0</td>\n",
       "      <td>CD14+ Monocytes</td>\n",
       "      <td>2</td>\n",
       "    </tr>\n",
       "    <tr>\n",
       "      <th>AAACCGTGTATGCG-1</th>\n",
       "      <td>522</td>\n",
       "      <td>0.012245</td>\n",
       "      <td>980.0</td>\n",
       "      <td>NK cells</td>\n",
       "      <td>8</td>\n",
       "    </tr>\n",
       "    <tr>\n",
       "      <th>...</th>\n",
       "      <td>...</td>\n",
       "      <td>...</td>\n",
       "      <td>...</td>\n",
       "      <td>...</td>\n",
       "      <td>...</td>\n",
       "    </tr>\n",
       "    <tr>\n",
       "      <th>TTTCGAACTCTCAT-1</th>\n",
       "      <td>1155</td>\n",
       "      <td>0.021104</td>\n",
       "      <td>3459.0</td>\n",
       "      <td>CD14+ Monocytes</td>\n",
       "      <td>6</td>\n",
       "    </tr>\n",
       "    <tr>\n",
       "      <th>TTTCTACTGAGGCA-1</th>\n",
       "      <td>1227</td>\n",
       "      <td>0.009294</td>\n",
       "      <td>3443.0</td>\n",
       "      <td>B cells</td>\n",
       "      <td>2</td>\n",
       "    </tr>\n",
       "    <tr>\n",
       "      <th>TTTCTACTTCCTCG-1</th>\n",
       "      <td>622</td>\n",
       "      <td>0.021971</td>\n",
       "      <td>1684.0</td>\n",
       "      <td>B cells</td>\n",
       "      <td>6</td>\n",
       "    </tr>\n",
       "    <tr>\n",
       "      <th>TTTGCATGAGAGGC-1</th>\n",
       "      <td>454</td>\n",
       "      <td>0.020548</td>\n",
       "      <td>1022.0</td>\n",
       "      <td>B cells</td>\n",
       "      <td>3</td>\n",
       "    </tr>\n",
       "    <tr>\n",
       "      <th>TTTGCATGCCTCAC-1</th>\n",
       "      <td>724</td>\n",
       "      <td>0.008065</td>\n",
       "      <td>1984.0</td>\n",
       "      <td>CD4 T cells</td>\n",
       "      <td>6</td>\n",
       "    </tr>\n",
       "  </tbody>\n",
       "</table>\n",
       "<p>2638 rows × 5 columns</p>\n",
       "</div>"
      ],
      "text/plain": [
       "                  n_genes  percent_mito  n_counts          louvain sample\n",
       "index                                                                    \n",
       "AAACATACAACCAC-1      781      0.030178    2419.0      CD4 T cells      7\n",
       "AAACATTGAGCTAC-1     1352      0.037936    4903.0          B cells      2\n",
       "AAACATTGATCAGC-1     1131      0.008897    3147.0      CD4 T cells      9\n",
       "AAACCGTGCTTCCG-1      960      0.017431    2639.0  CD14+ Monocytes      2\n",
       "AAACCGTGTATGCG-1      522      0.012245     980.0         NK cells      8\n",
       "...                   ...           ...       ...              ...    ...\n",
       "TTTCGAACTCTCAT-1     1155      0.021104    3459.0  CD14+ Monocytes      6\n",
       "TTTCTACTGAGGCA-1     1227      0.009294    3443.0          B cells      2\n",
       "TTTCTACTTCCTCG-1      622      0.021971    1684.0          B cells      6\n",
       "TTTGCATGAGAGGC-1      454      0.020548    1022.0          B cells      3\n",
       "TTTGCATGCCTCAC-1      724      0.008065    1984.0      CD4 T cells      6\n",
       "\n",
       "[2638 rows x 5 columns]"
      ]
     },
     "execution_count": 5,
     "metadata": {},
     "output_type": "execute_result"
    }
   ],
   "source": [
    "adata.obs"
   ]
  },
  {
   "cell_type": "code",
   "execution_count": 6,
   "metadata": {},
   "outputs": [],
   "source": [
    "pb = sc.get.aggregate(adata, [\"sample\", \"louvain\"], \"mean\")"
   ]
  },
  {
   "cell_type": "code",
   "execution_count": 7,
   "metadata": {},
   "outputs": [
    {
     "data": {
      "text/plain": [
       "AnnData object with n_obs × n_vars = 2638 × 13714\n",
       "    obs: 'n_genes', 'percent_mito', 'n_counts', 'louvain', 'sample'\n",
       "    var: 'n_cells'"
      ]
     },
     "execution_count": 7,
     "metadata": {},
     "output_type": "execute_result"
    }
   ],
   "source": [
    "adata"
   ]
  },
  {
   "cell_type": "code",
   "execution_count": 8,
   "metadata": {},
   "outputs": [
    {
     "data": {
      "text/plain": [
       "array([[0.        , 0.        , 0.        , ..., 0.00572849, 0.05490735,\n",
       "        0.00572849],\n",
       "       [0.        , 0.        , 0.        , ..., 0.        , 0.01540327,\n",
       "        0.        ],\n",
       "       [0.        , 0.        , 0.        , ..., 0.        , 0.        ,\n",
       "        0.        ],\n",
       "       ...,\n",
       "       [0.        , 0.        , 0.        , ..., 0.        , 0.06931472,\n",
       "        0.        ],\n",
       "       [0.        , 0.        , 0.13862944, ..., 0.        , 0.        ,\n",
       "        0.        ],\n",
       "       [0.        , 0.        , 0.        , ..., 0.        , 0.        ,\n",
       "        0.        ]])"
      ]
     },
     "execution_count": 8,
     "metadata": {},
     "output_type": "execute_result"
    }
   ],
   "source": [
    "pb.layers[\"mean\"]"
   ]
  },
  {
   "cell_type": "code",
   "execution_count": 9,
   "metadata": {},
   "outputs": [
    {
     "name": "stderr",
     "output_type": "stream",
     "text": [
      "100%|██████████| 13714/13714 [00:11<00:00, 1198.73it/s]\n"
     ]
    }
   ],
   "source": [
    "mod = pertpy.tl.Statsmodels(pb, design=\"~ louvain\", layer=\"mean\")\n",
    "mod.fit()"
   ]
  },
  {
   "cell_type": "code",
   "execution_count": 22,
   "metadata": {},
   "outputs": [
    {
     "name": "stderr",
     "output_type": "stream",
     "text": [
      "100%|██████████| 13714/13714 [00:01<00:00, 11692.53it/s]\n",
      "100%|██████████| 13714/13714 [00:01<00:00, 12073.40it/s]\n"
     ]
    }
   ],
   "source": [
    "res = mod.test_contrasts(\n",
    "    {\n",
    "        \"CD8_vs_CD4\": mod.cond(louvain=\"CD8 T cells\") - mod.cond(louvain=\"CD4 T cells\"),\n",
    "        \"CD8_vs_NK\": mod.cond(louvain=\"CD8 T cells\") - mod.cond(louvain=\"NK cells\"),\n",
    "    }\n",
    ")\n",
    "res[\"p_value\"] = res[\"p_value\"].astype(float)  # don't ask me why this is an object column"
   ]
  },
  {
   "cell_type": "code",
   "execution_count": 23,
   "metadata": {},
   "outputs": [
    {
     "data": {
      "application/vnd.microsoft.datawrangler.viewer.v0+json": {
       "columns": [
        {
         "name": "index",
         "rawType": "int64",
         "type": "integer"
        },
        {
         "name": "variable",
         "rawType": "object",
         "type": "string"
        },
        {
         "name": "p_value",
         "rawType": "float64",
         "type": "float"
        },
        {
         "name": "t_value",
         "rawType": "float64",
         "type": "float"
        },
        {
         "name": "sd",
         "rawType": "float64",
         "type": "float"
        },
        {
         "name": "log_fc",
         "rawType": "float64",
         "type": "float"
        },
        {
         "name": "adj_p_value",
         "rawType": "float64",
         "type": "float"
        },
        {
         "name": "contrast",
         "rawType": "object",
         "type": "string"
        }
       ],
       "conversionMethod": "pd.DataFrame",
       "ref": "14e2d7d7-da70-493c-b3a8-ca05a6365f6f",
       "rows": [
        [
         "11083",
         "CCL5",
         "1.2268361282141662e-31",
         "20.575560754163472",
         "0.08770067242919144",
         "1.8044905137478178",
         "1.2268361282141662e-31",
         "CD8_vs_CD4"
        ],
        [
         "13001",
         "NKG7",
         "2.1755661139429295e-31",
         "20.38280153752004",
         "0.08637597485098669",
         "1.7605843529974838",
         "2.1755661139429295e-31",
         "CD8_vs_CD4"
        ],
        [
         "3694",
         "GZMK",
         "5.676207715084492e-31",
         "20.062989926203336",
         "0.03563574142583038",
         "0.7149595212392219",
         "5.676207715084492e-31",
         "CD8_vs_CD4"
        ],
        [
         "3695",
         "GZMA",
         "5.991939052081602e-28",
         "17.843924535567382",
         "0.0468014185060729",
         "0.8351209799798716",
         "5.991939052081602e-28",
         "CD8_vs_CD4"
        ],
        [
         "7873",
         "CTSW",
         "4.23949846906177e-27",
         "17.25072589782609",
         "0.0422099647670138",
         "0.7281525323526518",
         "4.23949846906177e-27",
         "CD8_vs_CD4"
        ],
        [
         "11879",
         "CST7",
         "4.439142903744908e-25",
         "15.889436821346314",
         "0.05492497838739363",
         "0.8727269740003029",
         "4.439142903744908e-25",
         "CD8_vs_CD4"
        ],
        [
         "8297",
         "LAG3",
         "4.3038756380186753e-23",
         "14.612304219551358",
         "0.008823281883240134",
         "0.12892847909276087",
         "4.3038756380186753e-23",
         "CD8_vs_CD4"
        ],
        [
         "1815",
         "CD8A",
         "7.528757415505834e-22",
         "13.841376690206543",
         "0.02637902704890902",
         "0.3651220501050972",
         "7.528757415505834e-22",
         "CD8_vs_CD4"
        ],
        [
         "9292",
         "GZMH",
         "1.6415788446842588e-21",
         "13.63485785401434",
         "0.04463980111689197",
         "0.6086573428602926",
         "1.6415788446842588e-21",
         "CD8_vs_CD4"
        ],
        [
         "12122",
         "LINC00176",
         "1.2380628118691867e-20",
         "-13.10609642375288",
         "0.005709751456250427",
         "-0.07483255314128152",
         "1.2380628118691867e-20",
         "CD8_vs_CD4"
        ],
        [
         "11147",
         "CCR7",
         "7.068717537243927e-20",
         "-12.657372011224851",
         "0.020033564121744507",
         "-0.2535722737996473",
         "7.068717537243927e-20",
         "CD8_vs_CD4"
        ],
        [
         "4219",
         "ADTRP",
         "4.798190787826983e-19",
         "-12.171262621396062",
         "0.004608363656821329",
         "-0.05608960432206951",
         "4.798190787826983e-19",
         "CD8_vs_CD4"
        ],
        [
         "12227",
         "MATK",
         "2.0577494731848723e-17",
         "11.23698626939953",
         "0.014735836680160012",
         "0.165586394443072",
         "2.0577494731848723e-17",
         "CD8_vs_CD4"
        ],
        [
         "12132",
         "GZMM",
         "4.702343883151142e-16",
         "10.476399927716761",
         "0.031176856055967237",
         "0.32662121253117105",
         "4.702343883151142e-16",
         "CD8_vs_CD4"
        ],
        [
         "5872",
         "CD40LG",
         "6.561058521931697e-16",
         "-10.396226282103827",
         "0.012148096909552588",
         "-0.1262943643686349",
         "6.561058521931697e-16",
         "CD8_vs_CD4"
        ],
        [
         "3160",
         "LYAR",
         "4.575131593848391e-15",
         "9.931410244814172",
         "0.04181708444336042",
         "0.41530262084904906",
         "4.575131593848391e-15",
         "CD8_vs_CD4"
        ],
        [
         "4369",
         "NCR3",
         "6.087708130066611e-15",
         "9.863395717860966",
         "0.020191842192240947",
         "0.1991601298146737",
         "6.087708130066611e-15",
         "CD8_vs_CD4"
        ],
        [
         "8333",
         "KLRG1",
         "6.469146497153317e-15",
         "9.848935501037458",
         "0.03373673041181148",
         "0.33227088184182013",
         "6.469146497153317e-15",
         "CD8_vs_CD4"
        ],
        [
         "3201",
         "FGFBP2",
         "4.48168029258241e-14",
         "9.390182034827042",
         "0.033072033664441426",
         "0.31055241637103304",
         "4.48168029258241e-14",
         "CD8_vs_CD4"
        ],
        [
         "4754",
         "SAMD3",
         "1.1062348529854486e-13",
         "9.17706262552271",
         "0.020508120837159367",
         "0.18820430925439874",
         "1.1062348529854486e-13",
         "CD8_vs_CD4"
        ],
        [
         "2030",
         "SLC4A10",
         "1.4189681440145885e-13",
         "9.118435838741375",
         "0.005554880358215086",
         "0.05065182013826897",
         "1.4189681440145885e-13",
         "CD8_vs_CD4"
        ],
        [
         "9129",
         "KLF5",
         "1.9984612202592278e-13",
         "-9.037858167527249",
         "0.0008197666916377805",
         "-0.0074089350894853065",
         "1.9984612202592278e-13",
         "CD8_vs_CD4"
        ],
        [
         "7152",
         "PRF1",
         "2.312389019205669e-13",
         "9.00354762399759",
         "0.04517106987914954",
         "0.40669987888384596",
         "2.312389019205669e-13",
         "CD8_vs_CD4"
        ],
        [
         "6969",
         "PRKCQ-AS1",
         "2.7046868236713463e-13",
         "-8.966710004251087",
         "0.01596245666630264",
         "-0.14313071988216036",
         "2.7046868236713463e-13",
         "CD8_vs_CD4"
        ],
        [
         "6031",
         "EPHX2",
         "3.52534576562947e-13",
         "-8.904445529359927",
         "0.006574228071851279",
         "-0.05853985576338865",
         "3.52534576562947e-13",
         "CD8_vs_CD4"
        ],
        [
         "10015",
         "HAPLN3",
         "5.894059337782497e-13",
         "-8.78377510558376",
         "0.004225194718208633",
         "-0.03711316018204498",
         "5.894059337782497e-13",
         "CD8_vs_CD4"
        ],
        [
         "1819",
         "RP11-1399P15.1",
         "6.314571299537131e-13",
         "-8.767603746827973",
         "0.003273548477069529",
         "-0.02870117589297781",
         "6.314571299537131e-13",
         "CD8_vs_CD4"
        ],
        [
         "3425",
         "LEF1",
         "6.453745644514937e-13",
         "-8.762488432882527",
         "0.021354346534252246",
         "-0.1871172144981504",
         "6.453745644514937e-13",
         "CD8_vs_CD4"
        ],
        [
         "4367",
         "LTB",
         "1.4072174565633726e-11",
         "-8.04041657807399",
         "0.08310438579787005",
         "-0.6681938812798509",
         "1.4072174565633726e-11",
         "CD8_vs_CD4"
        ],
        [
         "8268",
         "RP11-664D1.1",
         "1.632686252461434e-11",
         "-8.005611692925687",
         "0.0056758022745880335",
         "-0.045438269056176164",
         "1.632686252461434e-11",
         "CD8_vs_CD4"
        ],
        [
         "11390",
         "AXIN2",
         "1.816039359857231e-11",
         "-7.980683490165298",
         "0.0005969057266122338",
         "-0.004763715677559375",
         "1.816039359857231e-11",
         "CD8_vs_CD4"
        ],
        [
         "1788",
         "TRABD2A",
         "4.061109823178859e-11",
         "-7.7921026602595465",
         "0.013884578403912285",
         "-0.10819006031770717",
         "4.061109823178859e-11",
         "CD8_vs_CD4"
        ],
        [
         "1803",
         "GNLY",
         "9.786607290896047e-11",
         "7.585747032727764",
         "0.05511044617326527",
         "0.41805390353115024",
         "9.786607290896047e-11",
         "CD8_vs_CD4"
        ],
        [
         "3287",
         "HOPX",
         "3.342320555873817e-10",
         "7.296859818179404",
         "0.04365464440607758",
         "0.3185418206436178",
         "3.342320555873817e-10",
         "CD8_vs_CD4"
        ],
        [
         "12046",
         "TSHZ2",
         "3.7051183312182443e-10",
         "-7.2725713769819",
         "0.008563449483869862",
         "-0.062278297604622376",
         "3.7051183312182443e-10",
         "CD8_vs_CD4"
        ],
        [
         "10174",
         "RP11-473M20.16",
         "5.327546553213914e-10",
         "-7.1868977320940095",
         "0.0005483372394301012",
         "-0.003940843662482884",
         "5.327546553213914e-10",
         "CD8_vs_CD4"
        ],
        [
         "73",
         "RPL22",
         "6.539100966700693e-10",
         "-7.138504686218502",
         "0.05258332878719067",
         "-0.37536633896432886",
         "6.539100966700693e-10",
         "CD8_vs_CD4"
        ],
        [
         "13615",
         "CBR3",
         "6.602846581049738e-10",
         "-7.1362125411364605",
         "0.002542506900681282",
         "-0.018143869630567758",
         "6.602846581049738e-10",
         "CD8_vs_CD4"
        ],
        [
         "3167",
         "JAKMIP1",
         "7.006044860762494e-10",
         "7.122205845155611",
         "0.007118786608962395",
         "0.050701463596767464",
         "7.006044860762494e-10",
         "CD8_vs_CD4"
        ],
        [
         "3058",
         "TPRG1",
         "7.629617133083583e-10",
         "7.102050640541772",
         "0.003689944578961939",
         "0.02620617326058028",
         "7.629617133083583e-10",
         "CD8_vs_CD4"
        ],
        [
         "8338",
         "KLRB1",
         "8.281904690050827e-10",
         "7.082651497051928",
         "0.01451513031634713",
         "0.10280560946497982",
         "8.281904690050827e-10",
         "CD8_vs_CD4"
        ],
        [
         "13355",
         "PIK3IP1",
         "8.999935151368344e-10",
         "-7.06298268637605",
         "0.026895753530941407",
         "-0.18996424152607666",
         "8.999935151368344e-10",
         "CD8_vs_CD4"
        ],
        [
         "13432",
         "APOBEC3G",
         "1.1294035998765935e-09",
         "7.009230243379481",
         "0.039456001742708156",
         "0.2765562006978235",
         "1.1294035998765935e-09",
         "CD8_vs_CD4"
        ],
        [
         "7936",
         "RP11-119D9.1",
         "1.3525698783342703e-09",
         "-6.966500266321972",
         "0.0008934920478876154",
         "-0.006224512589565637",
         "1.3525698783342703e-09",
         "CD8_vs_CD4"
        ],
        [
         "8536",
         "KRT1",
         "3.269001098789846e-09",
         "-6.756771456192022",
         "0.003452820834464726",
         "-0.023329921257656382",
         "3.269001098789846e-09",
         "CD8_vs_CD4"
        ],
        [
         "2781",
         "TIGIT",
         "3.5279140642183725e-09",
         "6.738604921720582",
         "0.02224860582630489",
         "0.14992456472255936",
         "3.5279140642183725e-09",
         "CD8_vs_CD4"
        ],
        [
         "10645",
         "SDR42E1",
         "4.14544351535252e-09",
         "-6.700131174686652",
         "0.0009109572723358109",
         "-0.0061035332191846856",
         "4.14544351535252e-09",
         "CD8_vs_CD4"
        ],
        [
         "13499",
         "PRR5",
         "6.1376753221781035e-09",
         "6.606353253513276",
         "0.015078115939048883",
         "0.09961136029078596",
         "6.1376753221781035e-09",
         "CD8_vs_CD4"
        ],
        [
         "10103",
         "RP11-161M6.2",
         "8.381244976484424e-09",
         "-6.531716691728052",
         "0.0011417980183941298",
         "-0.007457901175326951",
         "8.381244976484424e-09",
         "CD8_vs_CD4"
        ],
        [
         "9653",
         "CRIP2",
         "1.2454715227204041e-08",
         "-6.4365659574313705",
         "0.008239706468287653",
         "-0.053035414153007374",
         "1.2454715227204041e-08",
         "CD8_vs_CD4"
        ]
       ],
       "shape": {
        "columns": 7,
        "rows": 27428
       }
      },
      "text/html": [
       "<div>\n",
       "<style scoped>\n",
       "    .dataframe tbody tr th:only-of-type {\n",
       "        vertical-align: middle;\n",
       "    }\n",
       "\n",
       "    .dataframe tbody tr th {\n",
       "        vertical-align: top;\n",
       "    }\n",
       "\n",
       "    .dataframe thead th {\n",
       "        text-align: right;\n",
       "    }\n",
       "</style>\n",
       "<table border=\"1\" class=\"dataframe\">\n",
       "  <thead>\n",
       "    <tr style=\"text-align: right;\">\n",
       "      <th></th>\n",
       "      <th>variable</th>\n",
       "      <th>p_value</th>\n",
       "      <th>t_value</th>\n",
       "      <th>sd</th>\n",
       "      <th>log_fc</th>\n",
       "      <th>adj_p_value</th>\n",
       "      <th>contrast</th>\n",
       "    </tr>\n",
       "  </thead>\n",
       "  <tbody>\n",
       "    <tr>\n",
       "      <th>11083</th>\n",
       "      <td>CCL5</td>\n",
       "      <td>1.226836e-31</td>\n",
       "      <td>2.057556e+01</td>\n",
       "      <td>0.087701</td>\n",
       "      <td>1.804491e+00</td>\n",
       "      <td>1.226836e-31</td>\n",
       "      <td>CD8_vs_CD4</td>\n",
       "    </tr>\n",
       "    <tr>\n",
       "      <th>13001</th>\n",
       "      <td>NKG7</td>\n",
       "      <td>2.175566e-31</td>\n",
       "      <td>2.038280e+01</td>\n",
       "      <td>0.086376</td>\n",
       "      <td>1.760584e+00</td>\n",
       "      <td>2.175566e-31</td>\n",
       "      <td>CD8_vs_CD4</td>\n",
       "    </tr>\n",
       "    <tr>\n",
       "      <th>3694</th>\n",
       "      <td>GZMK</td>\n",
       "      <td>5.676208e-31</td>\n",
       "      <td>2.006299e+01</td>\n",
       "      <td>0.035636</td>\n",
       "      <td>7.149595e-01</td>\n",
       "      <td>5.676208e-31</td>\n",
       "      <td>CD8_vs_CD4</td>\n",
       "    </tr>\n",
       "    <tr>\n",
       "      <th>3695</th>\n",
       "      <td>GZMA</td>\n",
       "      <td>5.991939e-28</td>\n",
       "      <td>1.784392e+01</td>\n",
       "      <td>0.046801</td>\n",
       "      <td>8.351210e-01</td>\n",
       "      <td>5.991939e-28</td>\n",
       "      <td>CD8_vs_CD4</td>\n",
       "    </tr>\n",
       "    <tr>\n",
       "      <th>7873</th>\n",
       "      <td>CTSW</td>\n",
       "      <td>4.239498e-27</td>\n",
       "      <td>1.725073e+01</td>\n",
       "      <td>0.042210</td>\n",
       "      <td>7.281525e-01</td>\n",
       "      <td>4.239498e-27</td>\n",
       "      <td>CD8_vs_CD4</td>\n",
       "    </tr>\n",
       "    <tr>\n",
       "      <th>...</th>\n",
       "      <td>...</td>\n",
       "      <td>...</td>\n",
       "      <td>...</td>\n",
       "      <td>...</td>\n",
       "      <td>...</td>\n",
       "      <td>...</td>\n",
       "      <td>...</td>\n",
       "    </tr>\n",
       "    <tr>\n",
       "      <th>8340</th>\n",
       "      <td>CLECL1</td>\n",
       "      <td>1.000000e+00</td>\n",
       "      <td>3.717855e-17</td>\n",
       "      <td>0.005832</td>\n",
       "      <td>2.168404e-19</td>\n",
       "      <td>1.000000e+00</td>\n",
       "      <td>CD8_vs_NK</td>\n",
       "    </tr>\n",
       "    <tr>\n",
       "      <th>12941</th>\n",
       "      <td>DHDH</td>\n",
       "      <td>1.000000e+00</td>\n",
       "      <td>1.033068e-16</td>\n",
       "      <td>0.002099</td>\n",
       "      <td>2.168404e-19</td>\n",
       "      <td>1.000000e+00</td>\n",
       "      <td>CD8_vs_NK</td>\n",
       "    </tr>\n",
       "    <tr>\n",
       "      <th>6870</th>\n",
       "      <td>C9orf96</td>\n",
       "      <td>1.000000e+00</td>\n",
       "      <td>7.557508e-17</td>\n",
       "      <td>0.005738</td>\n",
       "      <td>4.336809e-19</td>\n",
       "      <td>1.000000e+00</td>\n",
       "      <td>CD8_vs_NK</td>\n",
       "    </tr>\n",
       "    <tr>\n",
       "      <th>12936</th>\n",
       "      <td>HSD17B14</td>\n",
       "      <td>1.000000e+00</td>\n",
       "      <td>0.000000e+00</td>\n",
       "      <td>0.001512</td>\n",
       "      <td>0.000000e+00</td>\n",
       "      <td>1.000000e+00</td>\n",
       "      <td>CD8_vs_NK</td>\n",
       "    </tr>\n",
       "    <tr>\n",
       "      <th>3667</th>\n",
       "      <td>C5orf51</td>\n",
       "      <td>1.000000e+00</td>\n",
       "      <td>0.000000e+00</td>\n",
       "      <td>0.007828</td>\n",
       "      <td>0.000000e+00</td>\n",
       "      <td>1.000000e+00</td>\n",
       "      <td>CD8_vs_NK</td>\n",
       "    </tr>\n",
       "  </tbody>\n",
       "</table>\n",
       "<p>27428 rows × 7 columns</p>\n",
       "</div>"
      ],
      "text/plain": [
       "       variable       p_value       t_value        sd        log_fc  \\\n",
       "11083      CCL5  1.226836e-31  2.057556e+01  0.087701  1.804491e+00   \n",
       "13001      NKG7  2.175566e-31  2.038280e+01  0.086376  1.760584e+00   \n",
       "3694       GZMK  5.676208e-31  2.006299e+01  0.035636  7.149595e-01   \n",
       "3695       GZMA  5.991939e-28  1.784392e+01  0.046801  8.351210e-01   \n",
       "7873       CTSW  4.239498e-27  1.725073e+01  0.042210  7.281525e-01   \n",
       "...         ...           ...           ...       ...           ...   \n",
       "8340     CLECL1  1.000000e+00  3.717855e-17  0.005832  2.168404e-19   \n",
       "12941      DHDH  1.000000e+00  1.033068e-16  0.002099  2.168404e-19   \n",
       "6870    C9orf96  1.000000e+00  7.557508e-17  0.005738  4.336809e-19   \n",
       "12936  HSD17B14  1.000000e+00  0.000000e+00  0.001512  0.000000e+00   \n",
       "3667    C5orf51  1.000000e+00  0.000000e+00  0.007828  0.000000e+00   \n",
       "\n",
       "        adj_p_value    contrast  \n",
       "11083  1.226836e-31  CD8_vs_CD4  \n",
       "13001  2.175566e-31  CD8_vs_CD4  \n",
       "3694   5.676208e-31  CD8_vs_CD4  \n",
       "3695   5.991939e-28  CD8_vs_CD4  \n",
       "7873   4.239498e-27  CD8_vs_CD4  \n",
       "...             ...         ...  \n",
       "8340   1.000000e+00   CD8_vs_NK  \n",
       "12941  1.000000e+00   CD8_vs_NK  \n",
       "6870   1.000000e+00   CD8_vs_NK  \n",
       "12936  1.000000e+00   CD8_vs_NK  \n",
       "3667   1.000000e+00   CD8_vs_NK  \n",
       "\n",
       "[27428 rows x 7 columns]"
      ]
     },
     "execution_count": 23,
     "metadata": {},
     "output_type": "execute_result"
    }
   ],
   "source": [
    "res"
   ]
  },
  {
   "cell_type": "code",
   "execution_count": 54,
   "metadata": {},
   "outputs": [],
   "source": [
    "de_res = DEResult(\n",
    "    res, pb, p_col=\"p_value\", effect_size_col=\"log_fc\", var_col=\"variable\", contrast_col=\"contrast\", layer=\"mean\"\n",
    ")"
   ]
  },
  {
   "cell_type": "code",
   "execution_count": 55,
   "metadata": {},
   "outputs": [
    {
     "data": {
      "application/vnd.microsoft.datawrangler.viewer.v0+json": {
       "columns": [
        {
         "name": "index",
         "rawType": "object",
         "type": "string"
        },
        {
         "name": "total",
         "rawType": "int64",
         "type": "integer"
        },
        {
         "name": "up",
         "rawType": "int64",
         "type": "integer"
        },
        {
         "name": "down",
         "rawType": "int64",
         "type": "integer"
        },
        {
         "name": "contrast",
         "rawType": "object",
         "type": "string"
        }
       ],
       "conversionMethod": "pd.DataFrame",
       "ref": "e9bf4947-4c7d-4f1d-b9d3-49daf880b392",
       "rows": [
        [
         "p < 0.1",
         "1072",
         "427",
         "645",
         "CD8_vs_CD4"
        ],
        [
         "p < 0.05",
         "790",
         "281",
         "509",
         "CD8_vs_CD4"
        ],
        [
         "p < 0.01",
         "476",
         "131",
         "345",
         "CD8_vs_CD4"
        ],
        [
         "p < 0.001",
         "288",
         "71",
         "217",
         "CD8_vs_CD4"
        ],
        [
         "p < 0.0001",
         "163",
         "49",
         "114",
         "CD8_vs_CD4"
        ],
        [
         "p < 0.1",
         "1869",
         "915",
         "954",
         "CD8_vs_NK"
        ],
        [
         "p < 0.05",
         "1168",
         "586",
         "582",
         "CD8_vs_NK"
        ],
        [
         "p < 0.01",
         "687",
         "352",
         "335",
         "CD8_vs_NK"
        ],
        [
         "p < 0.001",
         "353",
         "182",
         "171",
         "CD8_vs_NK"
        ],
        [
         "p < 0.0001",
         "233",
         "123",
         "110",
         "CD8_vs_NK"
        ]
       ],
       "shape": {
        "columns": 4,
        "rows": 10
       }
      },
      "text/html": [
       "<div>\n",
       "<style scoped>\n",
       "    .dataframe tbody tr th:only-of-type {\n",
       "        vertical-align: middle;\n",
       "    }\n",
       "\n",
       "    .dataframe tbody tr th {\n",
       "        vertical-align: top;\n",
       "    }\n",
       "\n",
       "    .dataframe thead th {\n",
       "        text-align: right;\n",
       "    }\n",
       "</style>\n",
       "<table border=\"1\" class=\"dataframe\">\n",
       "  <thead>\n",
       "    <tr style=\"text-align: right;\">\n",
       "      <th></th>\n",
       "      <th>total</th>\n",
       "      <th>up</th>\n",
       "      <th>down</th>\n",
       "      <th>contrast</th>\n",
       "    </tr>\n",
       "  </thead>\n",
       "  <tbody>\n",
       "    <tr>\n",
       "      <th>p &lt; 0.1</th>\n",
       "      <td>1072</td>\n",
       "      <td>427</td>\n",
       "      <td>645</td>\n",
       "      <td>CD8_vs_CD4</td>\n",
       "    </tr>\n",
       "    <tr>\n",
       "      <th>p &lt; 0.05</th>\n",
       "      <td>790</td>\n",
       "      <td>281</td>\n",
       "      <td>509</td>\n",
       "      <td>CD8_vs_CD4</td>\n",
       "    </tr>\n",
       "    <tr>\n",
       "      <th>p &lt; 0.01</th>\n",
       "      <td>476</td>\n",
       "      <td>131</td>\n",
       "      <td>345</td>\n",
       "      <td>CD8_vs_CD4</td>\n",
       "    </tr>\n",
       "    <tr>\n",
       "      <th>p &lt; 0.001</th>\n",
       "      <td>288</td>\n",
       "      <td>71</td>\n",
       "      <td>217</td>\n",
       "      <td>CD8_vs_CD4</td>\n",
       "    </tr>\n",
       "    <tr>\n",
       "      <th>p &lt; 0.0001</th>\n",
       "      <td>163</td>\n",
       "      <td>49</td>\n",
       "      <td>114</td>\n",
       "      <td>CD8_vs_CD4</td>\n",
       "    </tr>\n",
       "    <tr>\n",
       "      <th>p &lt; 0.1</th>\n",
       "      <td>1869</td>\n",
       "      <td>915</td>\n",
       "      <td>954</td>\n",
       "      <td>CD8_vs_NK</td>\n",
       "    </tr>\n",
       "    <tr>\n",
       "      <th>p &lt; 0.05</th>\n",
       "      <td>1168</td>\n",
       "      <td>586</td>\n",
       "      <td>582</td>\n",
       "      <td>CD8_vs_NK</td>\n",
       "    </tr>\n",
       "    <tr>\n",
       "      <th>p &lt; 0.01</th>\n",
       "      <td>687</td>\n",
       "      <td>352</td>\n",
       "      <td>335</td>\n",
       "      <td>CD8_vs_NK</td>\n",
       "    </tr>\n",
       "    <tr>\n",
       "      <th>p &lt; 0.001</th>\n",
       "      <td>353</td>\n",
       "      <td>182</td>\n",
       "      <td>171</td>\n",
       "      <td>CD8_vs_NK</td>\n",
       "    </tr>\n",
       "    <tr>\n",
       "      <th>p &lt; 0.0001</th>\n",
       "      <td>233</td>\n",
       "      <td>123</td>\n",
       "      <td>110</td>\n",
       "      <td>CD8_vs_NK</td>\n",
       "    </tr>\n",
       "  </tbody>\n",
       "</table>\n",
       "</div>"
      ],
      "text/plain": [
       "            total   up  down    contrast\n",
       "p < 0.1      1072  427   645  CD8_vs_CD4\n",
       "p < 0.05      790  281   509  CD8_vs_CD4\n",
       "p < 0.01      476  131   345  CD8_vs_CD4\n",
       "p < 0.001     288   71   217  CD8_vs_CD4\n",
       "p < 0.0001    163   49   114  CD8_vs_CD4\n",
       "p < 0.1      1869  915   954   CD8_vs_NK\n",
       "p < 0.05     1168  586   582   CD8_vs_NK\n",
       "p < 0.01      687  352   335   CD8_vs_NK\n",
       "p < 0.001     353  182   171   CD8_vs_NK\n",
       "p < 0.0001    233  123   110   CD8_vs_NK"
      ]
     },
     "execution_count": 55,
     "metadata": {},
     "output_type": "execute_result"
    }
   ],
   "source": [
    "de_res.summary()"
   ]
  },
  {
   "cell_type": "code",
   "execution_count": 56,
   "metadata": {},
   "outputs": [],
   "source": [
    "de_res.p_adjust()"
   ]
  },
  {
   "cell_type": "code",
   "execution_count": 57,
   "metadata": {},
   "outputs": [
    {
     "data": {
      "application/vnd.microsoft.datawrangler.viewer.v0+json": {
       "columns": [
        {
         "name": "index",
         "rawType": "object",
         "type": "string"
        },
        {
         "name": "total",
         "rawType": "int64",
         "type": "integer"
        },
        {
         "name": "up",
         "rawType": "int64",
         "type": "integer"
        },
        {
         "name": "down",
         "rawType": "int64",
         "type": "integer"
        },
        {
         "name": "contrast",
         "rawType": "object",
         "type": "string"
        }
       ],
       "conversionMethod": "pd.DataFrame",
       "ref": "81106357-0cbc-4476-8199-ec7a0024465f",
       "rows": [
        [
         "p < 0.1",
         "348",
         "91",
         "257",
         "CD8_vs_CD4"
        ],
        [
         "p < 0.05",
         "298",
         "73",
         "225",
         "CD8_vs_CD4"
        ],
        [
         "p < 0.01",
         "173",
         "53",
         "120",
         "CD8_vs_CD4"
        ],
        [
         "p < 0.001",
         "127",
         "41",
         "86",
         "CD8_vs_CD4"
        ],
        [
         "p < 0.0001",
         "68",
         "31",
         "37",
         "CD8_vs_CD4"
        ],
        [
         "p < 0.1",
         "455",
         "234",
         "221",
         "CD8_vs_NK"
        ],
        [
         "p < 0.05",
         "363",
         "187",
         "176",
         "CD8_vs_NK"
        ],
        [
         "p < 0.01",
         "247",
         "129",
         "118",
         "CD8_vs_NK"
        ],
        [
         "p < 0.001",
         "170",
         "84",
         "86",
         "CD8_vs_NK"
        ],
        [
         "p < 0.0001",
         "118",
         "55",
         "63",
         "CD8_vs_NK"
        ]
       ],
       "shape": {
        "columns": 4,
        "rows": 10
       }
      },
      "text/html": [
       "<div>\n",
       "<style scoped>\n",
       "    .dataframe tbody tr th:only-of-type {\n",
       "        vertical-align: middle;\n",
       "    }\n",
       "\n",
       "    .dataframe tbody tr th {\n",
       "        vertical-align: top;\n",
       "    }\n",
       "\n",
       "    .dataframe thead th {\n",
       "        text-align: right;\n",
       "    }\n",
       "</style>\n",
       "<table border=\"1\" class=\"dataframe\">\n",
       "  <thead>\n",
       "    <tr style=\"text-align: right;\">\n",
       "      <th></th>\n",
       "      <th>total</th>\n",
       "      <th>up</th>\n",
       "      <th>down</th>\n",
       "      <th>contrast</th>\n",
       "    </tr>\n",
       "  </thead>\n",
       "  <tbody>\n",
       "    <tr>\n",
       "      <th>p &lt; 0.1</th>\n",
       "      <td>348</td>\n",
       "      <td>91</td>\n",
       "      <td>257</td>\n",
       "      <td>CD8_vs_CD4</td>\n",
       "    </tr>\n",
       "    <tr>\n",
       "      <th>p &lt; 0.05</th>\n",
       "      <td>298</td>\n",
       "      <td>73</td>\n",
       "      <td>225</td>\n",
       "      <td>CD8_vs_CD4</td>\n",
       "    </tr>\n",
       "    <tr>\n",
       "      <th>p &lt; 0.01</th>\n",
       "      <td>173</td>\n",
       "      <td>53</td>\n",
       "      <td>120</td>\n",
       "      <td>CD8_vs_CD4</td>\n",
       "    </tr>\n",
       "    <tr>\n",
       "      <th>p &lt; 0.001</th>\n",
       "      <td>127</td>\n",
       "      <td>41</td>\n",
       "      <td>86</td>\n",
       "      <td>CD8_vs_CD4</td>\n",
       "    </tr>\n",
       "    <tr>\n",
       "      <th>p &lt; 0.0001</th>\n",
       "      <td>68</td>\n",
       "      <td>31</td>\n",
       "      <td>37</td>\n",
       "      <td>CD8_vs_CD4</td>\n",
       "    </tr>\n",
       "    <tr>\n",
       "      <th>p &lt; 0.1</th>\n",
       "      <td>455</td>\n",
       "      <td>234</td>\n",
       "      <td>221</td>\n",
       "      <td>CD8_vs_NK</td>\n",
       "    </tr>\n",
       "    <tr>\n",
       "      <th>p &lt; 0.05</th>\n",
       "      <td>363</td>\n",
       "      <td>187</td>\n",
       "      <td>176</td>\n",
       "      <td>CD8_vs_NK</td>\n",
       "    </tr>\n",
       "    <tr>\n",
       "      <th>p &lt; 0.01</th>\n",
       "      <td>247</td>\n",
       "      <td>129</td>\n",
       "      <td>118</td>\n",
       "      <td>CD8_vs_NK</td>\n",
       "    </tr>\n",
       "    <tr>\n",
       "      <th>p &lt; 0.001</th>\n",
       "      <td>170</td>\n",
       "      <td>84</td>\n",
       "      <td>86</td>\n",
       "      <td>CD8_vs_NK</td>\n",
       "    </tr>\n",
       "    <tr>\n",
       "      <th>p &lt; 0.0001</th>\n",
       "      <td>118</td>\n",
       "      <td>55</td>\n",
       "      <td>63</td>\n",
       "      <td>CD8_vs_NK</td>\n",
       "    </tr>\n",
       "  </tbody>\n",
       "</table>\n",
       "</div>"
      ],
      "text/plain": [
       "            total   up  down    contrast\n",
       "p < 0.1       348   91   257  CD8_vs_CD4\n",
       "p < 0.05      298   73   225  CD8_vs_CD4\n",
       "p < 0.01      173   53   120  CD8_vs_CD4\n",
       "p < 0.001     127   41    86  CD8_vs_CD4\n",
       "p < 0.0001     68   31    37  CD8_vs_CD4\n",
       "p < 0.1       455  234   221   CD8_vs_NK\n",
       "p < 0.05      363  187   176   CD8_vs_NK\n",
       "p < 0.01      247  129   118   CD8_vs_NK\n",
       "p < 0.001     170   84    86   CD8_vs_NK\n",
       "p < 0.0001    118   55    63   CD8_vs_NK"
      ]
     },
     "execution_count": 57,
     "metadata": {},
     "output_type": "execute_result"
    }
   ],
   "source": [
    "de_res.summary()"
   ]
  },
  {
   "cell_type": "code",
   "execution_count": 58,
   "metadata": {},
   "outputs": [
    {
     "data": {
      "image/png": "[encoded data removed]",
      "text/plain": [
       "<Figure size 500x500 with 1 Axes>"
      ]
     },
     "metadata": {},
     "output_type": "display_data"
    }
   ],
   "source": [
    "de_res.plot_volcano(\"CD8_vs_NK\", log2fc_thresh=0.5)"
   ]
  },
  {
   "cell_type": "code",
   "execution_count": 61,
   "metadata": {},
   "outputs": [
    {
     "name": "stdout",
     "output_type": "stream",
     "text": [
      "Index(['CD8 T cells', 'NK cells'], dtype='object')\n"
     ]
    },
    {
     "data": {
      "image/png": "[encoded data removed]",
      "text/plain": [
       "<Figure size 1500x500 with 3 Axes>"
      ]
     },
     "metadata": {},
     "output_type": "display_data"
    }
   ],
   "source": [
    "de_res.plot_paired(\"louvain\", \"sample\", \"CD8_vs_NK\", groups=[\"CD8 T cells\", \"NK cells\"], n_top_vars=3)"
   ]
  },
  {
   "cell_type": "code",
   "execution_count": 36,
   "metadata": {},
   "outputs": [
    {
     "data": {
      "image/png": "[encoded data removed]",
      "text/plain": [
       "<Figure size 1000x500 with 1 Axes>"
      ]
     },
     "metadata": {},
     "output_type": "display_data"
    }
   ],
   "source": [
    "de_res.plot_fold_change(\"CD8_vs_NK\")"
   ]
  },
  {
   "cell_type": "code",
   "execution_count": 37,
   "metadata": {},
   "outputs": [
    {
     "data": {
      "image/png": "[encoded data removed]",
      "text/plain": [
       "<Figure size 1000x200 with 2 Axes>"
      ]
     },
     "metadata": {},
     "output_type": "display_data"
    }
   ],
   "source": [
    "de_res.plot_multicomparison_fc()"
   ]
  },
  {
   "cell_type": "code",
   "execution_count": null,
   "metadata": {},
   "outputs": [],
   "source": []
  }
 ],
 "metadata": {
  "kernelspec": {
   "display_name": ".venv",
   "language": "python",
   "name": "python3"
  },
  "language_info": {
   "codemirror_mode": {
    "name": "ipython",
    "version": 3
   },
   "file_extension": ".py",
   "mimetype": "text/x-python",
   "name": "python",
   "nbconvert_exporter": "python",
   "pygments_lexer": "ipython3",
   "version": "3.11.10"
  }
 },
 "nbformat": 4,
 "nbformat_minor": 4
}

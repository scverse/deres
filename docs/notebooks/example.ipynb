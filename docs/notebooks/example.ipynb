{
 "cells": [
  {
   "cell_type": "markdown",
   "metadata": {},
   "source": [
    "# Example notebook"
   ]
  },
  {
   "cell_type": "code",
   "execution_count": 1,
   "metadata": {},
   "outputs": [],
   "source": [
    "%load_ext autoreload\n",
    "%autoreload 2"
   ]
  },
  {
   "cell_type": "code",
   "execution_count": 2,
   "metadata": {},
   "outputs": [
    {
     "name": "stderr",
     "output_type": "stream",
     "text": [
      "/home/sturm/projects/scverse/deres/.venv/lib/python3.11/site-packages/tqdm/auto.py:21: TqdmWarning: IProgress not found. Please update jupyter and ipywidgets. See https://ipywidgets.readthedocs.io/en/stable/user_install.html\n",
      "  from .autonotebook import tqdm as notebook_tqdm\n"
     ]
    }
   ],
   "source": [
    "import pertpy\n",
    "from deres import DEResult\n",
    "import scanpy as sc\n",
    "import numpy as np\n",
    "import pandas as pd"
   ]
  },
  {
   "cell_type": "code",
   "execution_count": 3,
   "metadata": {},
   "outputs": [],
   "source": [
    "adata = sc.datasets.pbmc3k_processed()"
   ]
  },
  {
   "cell_type": "code",
   "execution_count": 4,
   "metadata": {},
   "outputs": [],
   "source": [
    "adata.obs[\"sample\"] = pd.Categorical(np.random.randint(0, 10, adata.shape[0]))\n",
    "adata = sc.AnnData(adata.raw.X, obs=adata.obs, var=adata.raw.var)"
   ]
  },
  {
   "cell_type": "code",
   "execution_count": 5,
   "metadata": {},
   "outputs": [
    {
     "data": {
      "application/vnd.microsoft.datawrangler.viewer.v0+json": {
       "columns": [
        {
         "name": "index",
         "rawType": "object",
         "type": "string"
        },
        {
         "name": "n_genes",
         "rawType": "int64",
         "type": "integer"
        },
        {
         "name": "percent_mito",
         "rawType": "float32",
         "type": "float"
        },
        {
         "name": "n_counts",
         "rawType": "float32",
         "type": "float"
        },
        {
         "name": "louvain",
         "rawType": "category",
         "type": "unknown"
        },
        {
         "name": "sample",
         "rawType": "category",
         "type": "unknown"
        }
       ],
       "conversionMethod": "pd.DataFrame",
       "ref": "10aab20c-2604-4c1d-b4f1-0a5dc8fd2ded",
       "rows": [
        [
         "AAACATACAACCAC-1",
         "781",
         "0.030177759",
         "2419.0",
         "CD4 T cells",
         "6"
        ],
        [
         "AAACATTGAGCTAC-1",
         "1352",
         "0.037935957",
         "4903.0",
         "B cells",
         "5"
        ],
        [
         "AAACATTGATCAGC-1",
         "1131",
         "0.008897362",
         "3147.0",
         "CD4 T cells",
         "1"
        ],
        [
         "AAACCGTGCTTCCG-1",
         "960",
         "0.017430846",
         "2639.0",
         "CD14+ Monocytes",
         "0"
        ],
        [
         "AAACCGTGTATGCG-1",
         "522",
         "0.012244898",
         "980.0",
         "NK cells",
         "9"
        ],
        [
         "AAACGCACTGGTAC-1",
         "782",
         "0.01664355",
         "2163.0",
         "CD8 T cells",
         "9"
        ],
        [
         "AAACGCTGACCAGT-1",
         "783",
         "0.03816092",
         "2175.0",
         "CD8 T cells",
         "5"
        ],
        [
         "AAACGCTGGTTCTT-1",
         "790",
         "0.030973451",
         "2260.0",
         "CD8 T cells",
         "9"
        ],
        [
         "AAACGCTGTAGCCA-1",
         "533",
         "0.011764706",
         "1275.0",
         "CD4 T cells",
         "9"
        ],
        [
         "AAACGCTGTTTCTG-1",
         "550",
         "0.029011786",
         "1103.0",
         "FCGR3A+ Monocytes",
         "6"
        ],
        [
         "AAACTTGAAAAACG-1",
         "1116",
         "0.02631579",
         "3914.0",
         "B cells",
         "6"
        ],
        [
         "AAACTTGATCCAGA-1",
         "751",
         "0.010887772",
         "2388.0",
         "CD4 T cells",
         "1"
        ],
        [
         "AAAGAGACGAGATA-1",
         "866",
         "0.010788382",
         "2410.0",
         "CD4 T cells",
         "6"
        ],
        [
         "AAAGAGACGCGAGA-1",
         "1059",
         "0.014177382",
         "3033.0",
         "CD14+ Monocytes",
         "7"
        ],
        [
         "AAAGAGACGGACTT-1",
         "458",
         "0.023457862",
         "1151.0",
         "CD8 T cells",
         "5"
        ],
        [
         "AAAGAGACGGCATT-1",
         "335",
         "0.0239899",
         "792.0",
         "CD4 T cells",
         "6"
        ],
        [
         "AAAGCAGATATCGG-1",
         "1424",
         "0.013961606",
         "4584.0",
         "CD14+ Monocytes",
         "6"
        ],
        [
         "AAAGCCTGTATGCG-1",
         "1014",
         "0.017076503",
         "2928.0",
         "CD4 T cells",
         "7"
        ],
        [
         "AAAGGCCTGTCTAG-1",
         "1446",
         "0.015282526",
         "4973.0",
         "B cells",
         "6"
        ],
        [
         "AAAGTTTGATCACG-1",
         "446",
         "0.034700315",
         "1268.0",
         "B cells",
         "1"
        ],
        [
         "AAAGTTTGGGGTGA-1",
         "1020",
         "0.025906736",
         "3281.0",
         "B cells",
         "2"
        ],
        [
         "AAAGTTTGTAGAGA-1",
         "417",
         "0.015426497",
         "1102.0",
         "CD4 T cells",
         "3"
        ],
        [
         "AAAGTTTGTAGCGT-1",
         "878",
         "0.024972046",
         "2683.0",
         "CD14+ Monocytes",
         "8"
        ],
        [
         "AAATCAACAATGCC-1",
         "789",
         "0.01164295",
         "2319.0",
         "B cells",
         "3"
        ],
        [
         "AAATCAACACCAGT-1",
         "510",
         "0.019830028",
         "1412.0",
         "CD4 T cells",
         "2"
        ],
        [
         "AAATCAACCAGGAG-1",
         "824",
         "0.0225",
         "2800.0",
         "CD4 T cells",
         "5"
        ],
        [
         "AAATCAACCCTATT-1",
         "1545",
         "0.024312897",
         "5676.0",
         "CD4 T cells",
         "5"
        ],
        [
         "AAATCAACGGAAGC-1",
         "996",
         "0.017564066",
         "3473.0",
         "CD4 T cells",
         "6"
        ],
        [
         "AAATCAACTCGCAA-1",
         "937",
         "0.018498754",
         "2811.0",
         "CD4 T cells",
         "3"
        ],
        [
         "AAATCATGACCACA-1",
         "1368",
         "0.045784883",
         "4128.0",
         "FCGR3A+ Monocytes",
         "8"
        ],
        [
         "AAATCCCTCCACAA-1",
         "428",
         "0.019895287",
         "955.0",
         "CD8 T cells",
         "6"
        ],
        [
         "AAATCCCTGCTATG-1",
         "406",
         "0.01703163",
         "822.0",
         "B cells",
         "4"
        ],
        [
         "AAATGTTGAACGAA-1",
         "1020",
         "0.019326683",
         "3208.0",
         "CD14+ Monocytes",
         "9"
        ],
        [
         "AAATGTTGCCACAA-1",
         "786",
         "0.00625",
         "1760.0",
         "CD4 T cells",
         "6"
        ],
        [
         "AAATGTTGTGGCAT-1",
         "1019",
         "0.019195944",
         "2761.0",
         "CD14+ Monocytes",
         "4"
        ],
        [
         "AAATTCGAAGGTTC-1",
         "750",
         "0.022262774",
         "2740.0",
         "CD4 T cells",
         "1"
        ],
        [
         "AAATTCGAATCACG-1",
         "822",
         "0.01986755",
         "2567.0",
         "CD14+ Monocytes",
         "4"
        ],
        [
         "AAATTCGAGCTGAT-1",
         "982",
         "0.021892894",
         "2969.0",
         "FCGR3A+ Monocytes",
         "3"
        ],
        [
         "AAATTCGAGGAGTG-1",
         "876",
         "0.024848891",
         "2978.0",
         "CD4 T cells",
         "9"
        ],
        [
         "AAATTCGATTCTCA-1",
         "930",
         "0.01438849",
         "2641.0",
         "CD8 T cells",
         "1"
        ],
        [
         "AAATTGACACGACT-1",
         "838",
         "0.021213407",
         "2357.0",
         "CD8 T cells",
         "2"
        ],
        [
         "AAATTGACTCGCTC-1",
         "1014",
         "0.014951627",
         "3411.0",
         "CD8 T cells",
         "3"
        ],
        [
         "AACAAACTCATTTC-1",
         "732",
         "0.014233242",
         "2178.0",
         "CD4 T cells",
         "7"
        ],
        [
         "AACAAACTTTCGTT-1",
         "877",
         "0.017113095",
         "2688.0",
         "CD4 T cells",
         "2"
        ],
        [
         "AACAATACGACGAG-1",
         "782",
         "0.029942965",
         "2104.0",
         "CD4 T cells",
         "1"
        ],
        [
         "AACACGTGCAGAGG-1",
         "787",
         "0.00889383",
         "1799.0",
         "CD4 T cells",
         "0"
        ],
        [
         "AACACGTGGAAAGT-1",
         "791",
         "0.010270065",
         "2629.0",
         "CD4 T cells",
         "1"
        ],
        [
         "AACACGTGGAACCT-1",
         "880",
         "0.022368422",
         "2280.0",
         "CD14+ Monocytes",
         "0"
        ],
        [
         "AACACGTGGCTACA-1",
         "801",
         "0.02413273",
         "2652.0",
         "CD4 T cells",
         "4"
        ],
        [
         "AACACGTGTACGAC-1",
         "1215",
         "0.027458671",
         "3569.0",
         "FCGR3A+ Monocytes",
         "4"
        ]
       ],
       "shape": {
        "columns": 5,
        "rows": 2638
       }
      },
      "text/html": [
       "<div>\n",
       "<style scoped>\n",
       "    .dataframe tbody tr th:only-of-type {\n",
       "        vertical-align: middle;\n",
       "    }\n",
       "\n",
       "    .dataframe tbody tr th {\n",
       "        vertical-align: top;\n",
       "    }\n",
       "\n",
       "    .dataframe thead th {\n",
       "        text-align: right;\n",
       "    }\n",
       "</style>\n",
       "<table border=\"1\" class=\"dataframe\">\n",
       "  <thead>\n",
       "    <tr style=\"text-align: right;\">\n",
       "      <th></th>\n",
       "      <th>n_genes</th>\n",
       "      <th>percent_mito</th>\n",
       "      <th>n_counts</th>\n",
       "      <th>louvain</th>\n",
       "      <th>sample</th>\n",
       "    </tr>\n",
       "    <tr>\n",
       "      <th>index</th>\n",
       "      <th></th>\n",
       "      <th></th>\n",
       "      <th></th>\n",
       "      <th></th>\n",
       "      <th></th>\n",
       "    </tr>\n",
       "  </thead>\n",
       "  <tbody>\n",
       "    <tr>\n",
       "      <th>AAACATACAACCAC-1</th>\n",
       "      <td>781</td>\n",
       "      <td>0.030178</td>\n",
       "      <td>2419.0</td>\n",
       "      <td>CD4 T cells</td>\n",
       "      <td>6</td>\n",
       "    </tr>\n",
       "    <tr>\n",
       "      <th>AAACATTGAGCTAC-1</th>\n",
       "      <td>1352</td>\n",
       "      <td>0.037936</td>\n",
       "      <td>4903.0</td>\n",
       "      <td>B cells</td>\n",
       "      <td>5</td>\n",
       "    </tr>\n",
       "    <tr>\n",
       "      <th>AAACATTGATCAGC-1</th>\n",
       "      <td>1131</td>\n",
       "      <td>0.008897</td>\n",
       "      <td>3147.0</td>\n",
       "      <td>CD4 T cells</td>\n",
       "      <td>1</td>\n",
       "    </tr>\n",
       "    <tr>\n",
       "      <th>AAACCGTGCTTCCG-1</th>\n",
       "      <td>960</td>\n",
       "      <td>0.017431</td>\n",
       "      <td>2639.0</td>\n",
       "      <td>CD14+ Monocytes</td>\n",
       "      <td>0</td>\n",
       "    </tr>\n",
       "    <tr>\n",
       "      <th>AAACCGTGTATGCG-1</th>\n",
       "      <td>522</td>\n",
       "      <td>0.012245</td>\n",
       "      <td>980.0</td>\n",
       "      <td>NK cells</td>\n",
       "      <td>9</td>\n",
       "    </tr>\n",
       "    <tr>\n",
       "      <th>...</th>\n",
       "      <td>...</td>\n",
       "      <td>...</td>\n",
       "      <td>...</td>\n",
       "      <td>...</td>\n",
       "      <td>...</td>\n",
       "    </tr>\n",
       "    <tr>\n",
       "      <th>TTTCGAACTCTCAT-1</th>\n",
       "      <td>1155</td>\n",
       "      <td>0.021104</td>\n",
       "      <td>3459.0</td>\n",
       "      <td>CD14+ Monocytes</td>\n",
       "      <td>5</td>\n",
       "    </tr>\n",
       "    <tr>\n",
       "      <th>TTTCTACTGAGGCA-1</th>\n",
       "      <td>1227</td>\n",
       "      <td>0.009294</td>\n",
       "      <td>3443.0</td>\n",
       "      <td>B cells</td>\n",
       "      <td>7</td>\n",
       "    </tr>\n",
       "    <tr>\n",
       "      <th>TTTCTACTTCCTCG-1</th>\n",
       "      <td>622</td>\n",
       "      <td>0.021971</td>\n",
       "      <td>1684.0</td>\n",
       "      <td>B cells</td>\n",
       "      <td>9</td>\n",
       "    </tr>\n",
       "    <tr>\n",
       "      <th>TTTGCATGAGAGGC-1</th>\n",
       "      <td>454</td>\n",
       "      <td>0.020548</td>\n",
       "      <td>1022.0</td>\n",
       "      <td>B cells</td>\n",
       "      <td>7</td>\n",
       "    </tr>\n",
       "    <tr>\n",
       "      <th>TTTGCATGCCTCAC-1</th>\n",
       "      <td>724</td>\n",
       "      <td>0.008065</td>\n",
       "      <td>1984.0</td>\n",
       "      <td>CD4 T cells</td>\n",
       "      <td>7</td>\n",
       "    </tr>\n",
       "  </tbody>\n",
       "</table>\n",
       "<p>2638 rows × 5 columns</p>\n",
       "</div>"
      ],
      "text/plain": [
       "                  n_genes  percent_mito  n_counts          louvain sample\n",
       "index                                                                    \n",
       "AAACATACAACCAC-1      781      0.030178    2419.0      CD4 T cells      6\n",
       "AAACATTGAGCTAC-1     1352      0.037936    4903.0          B cells      5\n",
       "AAACATTGATCAGC-1     1131      0.008897    3147.0      CD4 T cells      1\n",
       "AAACCGTGCTTCCG-1      960      0.017431    2639.0  CD14+ Monocytes      0\n",
       "AAACCGTGTATGCG-1      522      0.012245     980.0         NK cells      9\n",
       "...                   ...           ...       ...              ...    ...\n",
       "TTTCGAACTCTCAT-1     1155      0.021104    3459.0  CD14+ Monocytes      5\n",
       "TTTCTACTGAGGCA-1     1227      0.009294    3443.0          B cells      7\n",
       "TTTCTACTTCCTCG-1      622      0.021971    1684.0          B cells      9\n",
       "TTTGCATGAGAGGC-1      454      0.020548    1022.0          B cells      7\n",
       "TTTGCATGCCTCAC-1      724      0.008065    1984.0      CD4 T cells      7\n",
       "\n",
       "[2638 rows x 5 columns]"
      ]
     },
     "execution_count": 5,
     "metadata": {},
     "output_type": "execute_result"
    }
   ],
   "source": [
    "adata.obs"
   ]
  },
  {
   "cell_type": "code",
   "execution_count": 6,
   "metadata": {},
   "outputs": [],
   "source": [
    "pb = sc.get.aggregate(adata, [\"sample\", \"louvain\"], \"mean\")"
   ]
  },
  {
   "cell_type": "code",
   "execution_count": 7,
   "metadata": {},
   "outputs": [
    {
     "data": {
      "text/plain": [
       "AnnData object with n_obs × n_vars = 2638 × 13714\n",
       "    obs: 'n_genes', 'percent_mito', 'n_counts', 'louvain', 'sample'\n",
       "    var: 'n_cells'"
      ]
     },
     "execution_count": 7,
     "metadata": {},
     "output_type": "execute_result"
    }
   ],
   "source": [
    "adata"
   ]
  },
  {
   "cell_type": "code",
   "execution_count": 8,
   "metadata": {},
   "outputs": [
    {
     "data": {
      "text/plain": [
       "array([[0.        , 0.        , 0.        , ..., 0.        , 0.01624564,\n",
       "        0.01624564],\n",
       "       [0.        , 0.        , 0.        , ..., 0.        , 0.03713288,\n",
       "        0.        ],\n",
       "       [0.        , 0.        , 0.        , ..., 0.02888113, 0.02888113,\n",
       "        0.        ],\n",
       "       ...,\n",
       "       [0.        , 0.        , 0.        , ..., 0.        , 0.04951051,\n",
       "        0.        ],\n",
       "       [0.        , 0.        , 0.1732868 , ..., 0.        , 0.        ,\n",
       "        0.        ],\n",
       "       [0.        , 0.        , 0.        , ..., 0.        , 0.        ,\n",
       "        0.        ]])"
      ]
     },
     "execution_count": 8,
     "metadata": {},
     "output_type": "execute_result"
    }
   ],
   "source": [
    "pb.layers[\"mean\"]"
   ]
  },
  {
   "cell_type": "code",
   "execution_count": 9,
   "metadata": {},
   "outputs": [
    {
     "name": "stderr",
     "output_type": "stream",
     "text": [
      "100%|██████████| 13714/13714 [00:11<00:00, 1206.84it/s]\n"
     ]
    }
   ],
   "source": [
    "mod = pertpy.tl.Statsmodels(pb, design=\"~ louvain\", layer=\"mean\")\n",
    "mod.fit()"
   ]
  },
  {
   "cell_type": "code",
   "execution_count": 10,
   "metadata": {},
   "outputs": [
    {
     "name": "stderr",
     "output_type": "stream",
     "text": [
      "100%|██████████| 13714/13714 [00:01<00:00, 12014.11it/s]\n"
     ]
    }
   ],
   "source": [
    "res = mod.test_contrasts({\"CD8_vs_CD4\": mod.cond(louvain=\"CD8 T cells\") - mod.cond(louvain=\"CD4 T cells\")})\n",
    "res[\"p_value\"] = res[\"p_value\"].astype(float) # don't ask me why this is an object column"
   ]
  },
  {
   "cell_type": "code",
   "execution_count": 11,
   "metadata": {},
   "outputs": [
    {
     "data": {
      "application/vnd.microsoft.datawrangler.viewer.v0+json": {
       "columns": [
        {
         "name": "index",
         "rawType": "int64",
         "type": "integer"
        },
        {
         "name": "variable",
         "rawType": "object",
         "type": "string"
        },
        {
         "name": "p_value",
         "rawType": "float64",
         "type": "float"
        },
        {
         "name": "t_value",
         "rawType": "float64",
         "type": "float"
        },
        {
         "name": "sd",
         "rawType": "float64",
         "type": "float"
        },
        {
         "name": "log_fc",
         "rawType": "float64",
         "type": "float"
        },
        {
         "name": "adj_p_value",
         "rawType": "float64",
         "type": "float"
        },
        {
         "name": "contrast",
         "rawType": "object",
         "type": "string"
        }
       ],
       "conversionMethod": "pd.DataFrame",
       "ref": "9062b97a-25f4-4d5f-bcd3-9a343d981745",
       "rows": [
        [
         "13001",
         "NKG7",
         "1.839783791405314e-42",
         "30.828044542113588",
         "0.057218364537424994",
         "1.76393029058663",
         "1.839783791405314e-42",
         "CD8_vs_CD4"
        ],
        [
         "11083",
         "CCL5",
         "1.1958663676001e-36",
         "25.028773981087106",
         "0.0717634502678888",
         "1.7961511768579737",
         "1.1958663676001e-36",
         "CD8_vs_CD4"
        ],
        [
         "3694",
         "GZMK",
         "3.894294817981983e-33",
         "21.976420127541104",
         "0.032957035267208834",
         "0.7242776531903702",
         "3.894294817981983e-33",
         "CD8_vs_CD4"
        ],
        [
         "3695",
         "GZMA",
         "3.5818291794177683e-32",
         "21.191094615725248",
         "0.03887182466739264",
         "0.8237365144126",
         "3.5818291794177683e-32",
         "CD8_vs_CD4"
        ],
        [
         "11879",
         "CST7",
         "1.2637455970348106e-29",
         "19.21307355789404",
         "0.04509041630118074",
         "0.8663254851506502",
         "1.2637455970348106e-29",
         "CD8_vs_CD4"
        ],
        [
         "8297",
         "LAG3",
         "4.794562275959308e-26",
         "16.651112046430192",
         "0.007627417895034649",
         "0.12700498999516865",
         "4.794562275959308e-26",
         "CD8_vs_CD4"
        ],
        [
         "1815",
         "CD8A",
         "1.1980747656010274e-22",
         "14.420439809367041",
         "0.02507201611809408",
         "0.36154949933045594",
         "1.1980747656010274e-22",
         "CD8_vs_CD4"
        ],
        [
         "7873",
         "CTSW",
         "1.7523279696850882e-22",
         "14.31641542663628",
         "0.050286960650690896",
         "0.7199290192182026",
         "1.7523279696850882e-22",
         "CD8_vs_CD4"
        ],
        [
         "7152",
         "PRF1",
         "5.660957304814131e-22",
         "13.997952735052346",
         "0.02876222221686529",
         "0.4026122271467528",
         "5.660957304814131e-22",
         "CD8_vs_CD4"
        ],
        [
         "9292",
         "GZMH",
         "1.1747867876180381e-20",
         "13.190115759771304",
         "0.045597447612556255",
         "0.6014356123597246",
         "1.1747867876180381e-20",
         "CD8_vs_CD4"
        ],
        [
         "4219",
         "ADTRP",
         "2.7189291270301343e-19",
         "-12.37538259601641",
         "0.004505145629604731",
         "-0.055752900817129775",
         "2.7189291270301343e-19",
         "CD8_vs_CD4"
        ],
        [
         "11147",
         "CCR7",
         "6.634000664451103e-19",
         "-12.147847522722245",
         "0.02073397591677301",
         "-0.2518731779767537",
         "6.634000664451103e-19",
         "CD8_vs_CD4"
        ],
        [
         "3201",
         "FGFBP2",
         "1.8075872857418404e-16",
         "10.750714735077654",
         "0.028324541062879138",
         "0.3045090609690069",
         "1.8075872857418404e-16",
         "CD8_vs_CD4"
        ],
        [
         "12122",
         "LINC00176",
         "2.40638280516334e-15",
         "-10.122169482721219",
         "0.0077046684255120896",
         "-0.07798795961120421",
         "2.40638280516334e-15",
         "CD8_vs_CD4"
        ],
        [
         "2030",
         "SLC4A10",
         "6.641217645087254e-15",
         "9.877955359613123",
         "0.004997875984311692",
         "0.04936879586591339",
         "6.641217645087254e-15",
         "CD8_vs_CD4"
        ],
        [
         "4367",
         "LTB",
         "3.849682747771353e-14",
         "-9.457750647019328",
         "0.07354197894188512",
         "-0.6955416989206957",
         "3.849682747771353e-14",
         "CD8_vs_CD4"
        ],
        [
         "3167",
         "JAKMIP1",
         "3.9523383383500395e-14",
         "9.451479543665243",
         "0.004859237324232264",
         "0.04592698216779588",
         "3.9523383383500395e-14",
         "CD8_vs_CD4"
        ],
        [
         "6969",
         "PRKCQ-AS1",
         "4.2389902783086186e-14",
         "-9.43479760268838",
         "0.015726851012544736",
         "-0.14837965623099442",
         "4.2389902783086186e-14",
         "CD8_vs_CD4"
        ],
        [
         "3160",
         "LYAR",
         "7.287530873379955e-13",
         "8.76009002648728",
         "0.04785035126434227",
         "0.4191733848746777",
         "7.287530873379955e-13",
         "CD8_vs_CD4"
        ],
        [
         "6031",
         "EPHX2",
         "1.4328663432673624e-12",
         "-8.600373109594077",
         "0.006788141386937455",
         "-0.05838054864833953",
         "1.4328663432673624e-12",
         "CD8_vs_CD4"
        ],
        [
         "3425",
         "LEF1",
         "1.7110330619226116e-12",
         "-8.558488099270802",
         "0.022268080318539597",
         "-0.19058110039982754",
         "1.7110330619226116e-12",
         "CD8_vs_CD4"
        ],
        [
         "4369",
         "NCR3",
         "2.8728132708864506e-12",
         "8.43620647889275",
         "0.02265460878561722",
         "0.19111895741400461",
         "2.8728132708864506e-12",
         "CD8_vs_CD4"
        ],
        [
         "3287",
         "HOPX",
         "8.277853198383577e-12",
         "8.18663525858867",
         "0.0365361723837549",
         "0.2991083170507215",
         "8.277853198383577e-12",
         "CD8_vs_CD4"
        ],
        [
         "10103",
         "RP11-161M6.2",
         "1.4196709961168666e-11",
         "-8.05945437856079",
         "0.0009603006247796894",
         "-0.007739499075115332",
         "1.4196709961168666e-11",
         "CD8_vs_CD4"
        ],
        [
         "11752",
         "GTSCR1",
         "1.729218835159532e-11",
         "-8.012946773583776",
         "0.0008353595789316893",
         "-0.00669369184278298",
         "1.729218835159532e-11",
         "CD8_vs_CD4"
        ],
        [
         "1260",
         "HSD11B1",
         "4.494739535537254e-11",
         "-7.787629868600876",
         "0.0006369299857482514",
         "-0.004960174981220613",
         "4.494739535537254e-11",
         "CD8_vs_CD4"
        ],
        [
         "10015",
         "HAPLN3",
         "5.0688960058577553e-11",
         "-7.759258508299501",
         "0.004949798508446728",
         "-0.038406766191033455",
         "5.0688960058577553e-11",
         "CD8_vs_CD4"
        ],
        [
         "9653",
         "CRIP2",
         "5.443493848979993e-11",
         "-7.7424296513381945",
         "0.007294991959721586",
         "-0.05648096205522213",
         "5.443493848979993e-11",
         "CD8_vs_CD4"
        ],
        [
         "1819",
         "RP11-1399P15.1",
         "6.20216008741783e-11",
         "-7.711628059221142",
         "0.0035335798647213824",
         "-0.027249653634284263",
         "6.20216008741783e-11",
         "CD8_vs_CD4"
        ],
        [
         "12046",
         "TSHZ2",
         "1.0548307859533353e-10",
         "-7.586188944948598",
         "0.00863824252502362",
         "-0.06553133994711904",
         "1.0548307859533353e-10",
         "CD8_vs_CD4"
        ],
        [
         "8536",
         "KRT1",
         "1.4958117348886355e-10",
         "-7.503613426084919",
         "0.003102884965946866",
         "-0.02328284929007595",
         "1.4958117348886355e-10",
         "CD8_vs_CD4"
        ],
        [
         "12227",
         "MATK",
         "2.389063300305534e-10",
         "7.3928073694391125",
         "0.02255207131501106",
         "0.16672311901373016",
         "2.389063300305534e-10",
         "CD8_vs_CD4"
        ],
        [
         "4897",
         "GPR146",
         "2.4904039645610873e-10",
         "-7.382969306882026",
         "0.0014778637644134562",
         "-0.010911022812417676",
         "2.4904039645610873e-10",
         "CD8_vs_CD4"
        ],
        [
         "8333",
         "KLRG1",
         "4.6408455941450637e-10",
         "7.235410710612045",
         "0.0453295654891962",
         "0.3279780236479203",
         "4.6408455941450637e-10",
         "CD8_vs_CD4"
        ],
        [
         "8233",
         "IGSF9B",
         "5.850725281351442e-10",
         "-7.180409798147068",
         "0.00048135374099915544",
         "-0.0034563171182450817",
         "5.850725281351442e-10",
         "CD8_vs_CD4"
        ],
        [
         "13281",
         "C22orf15",
         "6.205375484221059e-10",
         "-7.16643032966323",
         "0.0005244182303002971",
         "-0.003758206711052366",
         "6.205375484221059e-10",
         "CD8_vs_CD4"
        ],
        [
         "2781",
         "TIGIT",
         "6.22789005303307e-10",
         "7.16556992244009",
         "0.020704188671464837",
         "0.1483573116127733",
         "6.22789005303307e-10",
         "CD8_vs_CD4"
        ],
        [
         "5872",
         "CD40LG",
         "6.44134518050723e-10",
         "-7.157563205230077",
         "0.016788900093739952",
         "-0.12016761356723688",
         "6.44134518050723e-10",
         "CD8_vs_CD4"
        ],
        [
         "12132",
         "GZMM",
         "7.644149310406441e-10",
         "7.11687031511773",
         "0.046093863545739466",
         "0.3280440491777605",
         "7.644149310406441e-10",
         "CD8_vs_CD4"
        ],
        [
         "10168",
         "IL32",
         "2.358693747106222e-09",
         "6.848260064531608",
         "0.054207149083692355",
         "0.3712246542819615",
         "2.358693747106222e-09",
         "CD8_vs_CD4"
        ],
        [
         "13355",
         "PIK3IP1",
         "2.710506879180375e-09",
         "-6.815008441069999",
         "0.028638035477631777",
         "-0.19516845351572265",
         "2.710506879180375e-09",
         "CD8_vs_CD4"
        ],
        [
         "8349",
         "KLRD1",
         "3.928437141900974e-09",
         "6.726117083799274",
         "0.018309847135147085",
         "0.123154175617466",
         "3.928437141900974e-09",
         "CD8_vs_CD4"
        ],
        [
         "12426",
         "JUNB",
         "7.48475410133297e-09",
         "-6.5712065889451",
         "0.09079174130993375",
         "-0.5966112887176357",
         "7.48475410133297e-09",
         "CD8_vs_CD4"
        ],
        [
         "1803",
         "GNLY",
         "7.539395593383779e-09",
         "6.569454682367385",
         "0.06062622814767386",
         "0.3982812583790094",
         "7.539395593383779e-09",
         "CD8_vs_CD4"
        ],
        [
         "226",
         "MDS2",
         "1.1927445529521973e-08",
         "-6.458785430854692",
         "0.004290186308894574",
         "-0.02770939282754054",
         "1.1927445529521973e-08",
         "CD8_vs_CD4"
        ],
        [
         "2681",
         "FHIT",
         "1.3953962679091184e-08",
         "-6.420835094816252",
         "0.01807078202533538",
         "-0.11602951141904813",
         "1.3953962679091184e-08",
         "CD8_vs_CD4"
        ],
        [
         "8268",
         "RP11-664D1.1",
         "2.9183416474952656e-08",
         "-6.241717342169239",
         "0.007965179853303004",
         "-0.04971640122385839",
         "2.9183416474952656e-08",
         "CD8_vs_CD4"
        ],
        [
         "8338",
         "KLRB1",
         "5.019238802937916e-08",
         "6.109294433150717",
         "0.016764863491006667",
         "0.10242148719813873",
         "5.019238802937916e-08",
         "CD8_vs_CD4"
        ],
        [
         "4754",
         "SAMD3",
         "5.58081379896792e-08",
         "6.0833103234047385",
         "0.031042003732434143",
         "0.18883814176468505",
         "5.58081379896792e-08",
         "CD8_vs_CD4"
        ],
        [
         "73",
         "RPL22",
         "5.7146514253760496e-08",
         "-6.077500122830856",
         "0.062413429340526023",
         "-0.37931762448334183",
         "5.7146514253760496e-08",
         "CD8_vs_CD4"
        ]
       ],
       "shape": {
        "columns": 7,
        "rows": 13714
       }
      },
      "text/html": [
       "<div>\n",
       "<style scoped>\n",
       "    .dataframe tbody tr th:only-of-type {\n",
       "        vertical-align: middle;\n",
       "    }\n",
       "\n",
       "    .dataframe tbody tr th {\n",
       "        vertical-align: top;\n",
       "    }\n",
       "\n",
       "    .dataframe thead th {\n",
       "        text-align: right;\n",
       "    }\n",
       "</style>\n",
       "<table border=\"1\" class=\"dataframe\">\n",
       "  <thead>\n",
       "    <tr style=\"text-align: right;\">\n",
       "      <th></th>\n",
       "      <th>variable</th>\n",
       "      <th>p_value</th>\n",
       "      <th>t_value</th>\n",
       "      <th>sd</th>\n",
       "      <th>log_fc</th>\n",
       "      <th>adj_p_value</th>\n",
       "      <th>contrast</th>\n",
       "    </tr>\n",
       "  </thead>\n",
       "  <tbody>\n",
       "    <tr>\n",
       "      <th>13001</th>\n",
       "      <td>NKG7</td>\n",
       "      <td>1.839784e-42</td>\n",
       "      <td>3.082804e+01</td>\n",
       "      <td>0.057218</td>\n",
       "      <td>1.763930e+00</td>\n",
       "      <td>1.839784e-42</td>\n",
       "      <td>CD8_vs_CD4</td>\n",
       "    </tr>\n",
       "    <tr>\n",
       "      <th>11083</th>\n",
       "      <td>CCL5</td>\n",
       "      <td>1.195866e-36</td>\n",
       "      <td>2.502877e+01</td>\n",
       "      <td>0.071763</td>\n",
       "      <td>1.796151e+00</td>\n",
       "      <td>1.195866e-36</td>\n",
       "      <td>CD8_vs_CD4</td>\n",
       "    </tr>\n",
       "    <tr>\n",
       "      <th>3694</th>\n",
       "      <td>GZMK</td>\n",
       "      <td>3.894295e-33</td>\n",
       "      <td>2.197642e+01</td>\n",
       "      <td>0.032957</td>\n",
       "      <td>7.242777e-01</td>\n",
       "      <td>3.894295e-33</td>\n",
       "      <td>CD8_vs_CD4</td>\n",
       "    </tr>\n",
       "    <tr>\n",
       "      <th>3695</th>\n",
       "      <td>GZMA</td>\n",
       "      <td>3.581829e-32</td>\n",
       "      <td>2.119109e+01</td>\n",
       "      <td>0.038872</td>\n",
       "      <td>8.237365e-01</td>\n",
       "      <td>3.581829e-32</td>\n",
       "      <td>CD8_vs_CD4</td>\n",
       "    </tr>\n",
       "    <tr>\n",
       "      <th>11879</th>\n",
       "      <td>CST7</td>\n",
       "      <td>1.263746e-29</td>\n",
       "      <td>1.921307e+01</td>\n",
       "      <td>0.045090</td>\n",
       "      <td>8.663255e-01</td>\n",
       "      <td>1.263746e-29</td>\n",
       "      <td>CD8_vs_CD4</td>\n",
       "    </tr>\n",
       "    <tr>\n",
       "      <th>...</th>\n",
       "      <td>...</td>\n",
       "      <td>...</td>\n",
       "      <td>...</td>\n",
       "      <td>...</td>\n",
       "      <td>...</td>\n",
       "      <td>...</td>\n",
       "      <td>...</td>\n",
       "    </tr>\n",
       "    <tr>\n",
       "      <th>10703</th>\n",
       "      <td>ZNF778</td>\n",
       "      <td>1.000000e+00</td>\n",
       "      <td>8.128430e-17</td>\n",
       "      <td>0.018472</td>\n",
       "      <td>1.501461e-18</td>\n",
       "      <td>1.000000e+00</td>\n",
       "      <td>CD8_vs_CD4</td>\n",
       "    </tr>\n",
       "    <tr>\n",
       "      <th>12738</th>\n",
       "      <td>CTD-2540F13.2</td>\n",
       "      <td>1.000000e+00</td>\n",
       "      <td>9.990179e-17</td>\n",
       "      <td>0.001488</td>\n",
       "      <td>1.486824e-19</td>\n",
       "      <td>1.000000e+00</td>\n",
       "      <td>CD8_vs_CD4</td>\n",
       "    </tr>\n",
       "    <tr>\n",
       "      <th>11454</th>\n",
       "      <td>SMIM5</td>\n",
       "      <td>1.000000e+00</td>\n",
       "      <td>-4.080746e-17</td>\n",
       "      <td>0.048560</td>\n",
       "      <td>-1.981628e-18</td>\n",
       "      <td>1.000000e+00</td>\n",
       "      <td>CD8_vs_CD4</td>\n",
       "    </tr>\n",
       "    <tr>\n",
       "      <th>6978</th>\n",
       "      <td>RP11-138I18.2</td>\n",
       "      <td>1.000000e+00</td>\n",
       "      <td>-1.045136e-16</td>\n",
       "      <td>0.001615</td>\n",
       "      <td>-1.687526e-19</td>\n",
       "      <td>1.000000e+00</td>\n",
       "      <td>CD8_vs_CD4</td>\n",
       "    </tr>\n",
       "    <tr>\n",
       "      <th>11141</th>\n",
       "      <td>CDC6</td>\n",
       "      <td>1.000000e+00</td>\n",
       "      <td>0.000000e+00</td>\n",
       "      <td>0.000000</td>\n",
       "      <td>0.000000e+00</td>\n",
       "      <td>1.000000e+00</td>\n",
       "      <td>CD8_vs_CD4</td>\n",
       "    </tr>\n",
       "  </tbody>\n",
       "</table>\n",
       "<p>13714 rows × 7 columns</p>\n",
       "</div>"
      ],
      "text/plain": [
       "            variable       p_value       t_value        sd        log_fc  \\\n",
       "13001           NKG7  1.839784e-42  3.082804e+01  0.057218  1.763930e+00   \n",
       "11083           CCL5  1.195866e-36  2.502877e+01  0.071763  1.796151e+00   \n",
       "3694            GZMK  3.894295e-33  2.197642e+01  0.032957  7.242777e-01   \n",
       "3695            GZMA  3.581829e-32  2.119109e+01  0.038872  8.237365e-01   \n",
       "11879           CST7  1.263746e-29  1.921307e+01  0.045090  8.663255e-01   \n",
       "...              ...           ...           ...       ...           ...   \n",
       "10703         ZNF778  1.000000e+00  8.128430e-17  0.018472  1.501461e-18   \n",
       "12738  CTD-2540F13.2  1.000000e+00  9.990179e-17  0.001488  1.486824e-19   \n",
       "11454          SMIM5  1.000000e+00 -4.080746e-17  0.048560 -1.981628e-18   \n",
       "6978   RP11-138I18.2  1.000000e+00 -1.045136e-16  0.001615 -1.687526e-19   \n",
       "11141           CDC6  1.000000e+00  0.000000e+00  0.000000  0.000000e+00   \n",
       "\n",
       "        adj_p_value    contrast  \n",
       "13001  1.839784e-42  CD8_vs_CD4  \n",
       "11083  1.195866e-36  CD8_vs_CD4  \n",
       "3694   3.894295e-33  CD8_vs_CD4  \n",
       "3695   3.581829e-32  CD8_vs_CD4  \n",
       "11879  1.263746e-29  CD8_vs_CD4  \n",
       "...             ...         ...  \n",
       "10703  1.000000e+00  CD8_vs_CD4  \n",
       "12738  1.000000e+00  CD8_vs_CD4  \n",
       "11454  1.000000e+00  CD8_vs_CD4  \n",
       "6978   1.000000e+00  CD8_vs_CD4  \n",
       "11141  1.000000e+00  CD8_vs_CD4  \n",
       "\n",
       "[13714 rows x 7 columns]"
      ]
     },
     "execution_count": 11,
     "metadata": {},
     "output_type": "execute_result"
    }
   ],
   "source": [
    "res"
   ]
  },
  {
   "cell_type": "code",
   "execution_count": 36,
   "metadata": {},
   "outputs": [],
   "source": [
    "de_res = DEResult(res, adata, p_col=\"p_value\", effect_size_col=\"log_fc\", var_col=\"variable\", contrast_col=\"contrast\")"
   ]
  },
  {
   "cell_type": "code",
   "execution_count": 31,
   "metadata": {},
   "outputs": [],
   "source": [
    "de_res.p_adjust()"
   ]
  },
  {
   "cell_type": "code",
   "execution_count": 34,
   "metadata": {},
   "outputs": [
    {
     "data": {
      "text/plain": [
       "dtype('float64')"
      ]
     },
     "execution_count": 34,
     "metadata": {},
     "output_type": "execute_result"
    }
   ],
   "source": [
    "de_res.res[\"adj_p_value\"].dtype"
   ]
  },
  {
   "cell_type": "code",
   "execution_count": 20,
   "metadata": {},
   "outputs": [
    {
     "data": {
      "image/png": "[encoded data removed]",
      "text/plain": [
       "<Figure size 500x500 with 1 Axes>"
      ]
     },
     "metadata": {},
     "output_type": "display_data"
    }
   ],
   "source": [
    "de_res.plot_volcano(log2fc_thresh=0.5)"
   ]
  },
  {
   "cell_type": "code",
   "execution_count": 25,
   "metadata": {},
   "outputs": [
    {
     "data": {
      "image/png": "[encoded data removed]",
      "text/plain": [
       "<Figure size 1000x500 with 1 Axes>"
      ]
     },
     "metadata": {},
     "output_type": "display_data"
    }
   ],
   "source": [
    "de_res.plot_fold_change()"
   ]
  },
  {
   "cell_type": "code",
   "execution_count": 21,
   "metadata": {},
   "outputs": [
    {
     "ename": "ValueError",
     "evalue": "The number of groups in the group_by column must be exactly 2 to enable paired testing",
     "output_type": "error",
     "traceback": [
      "\u001b[31m---------------------------------------------------------------------------\u001b[39m",
      "\u001b[31mValueError\u001b[39m                                Traceback (most recent call last)",
      "\u001b[36mCell\u001b[39m\u001b[36m \u001b[39m\u001b[32mIn[21]\u001b[39m\u001b[32m, line 1\u001b[39m\n\u001b[32m----> \u001b[39m\u001b[32m1\u001b[39m \u001b[43mde_res\u001b[49m\u001b[43m.\u001b[49m\u001b[43mplot_paired\u001b[49m\u001b[43m(\u001b[49m\u001b[33;43m\"\u001b[39;49m\u001b[33;43mlouvain\u001b[39;49m\u001b[33;43m\"\u001b[39;49m\u001b[43m,\u001b[49m\u001b[43m \u001b[49m\u001b[33;43m\"\u001b[39;49m\u001b[33;43msample\u001b[39;49m\u001b[33;43m\"\u001b[39;49m\u001b[43m)\u001b[49m\n",
      "\u001b[36mFile \u001b[39m\u001b[32m~/projects/scverse/deres/src/deres/deres.py:576\u001b[39m, in \u001b[36mDEResult.plot_paired\u001b[39m\u001b[34m(self, groupby, pairedby, var_names, n_top_vars, layer, n_cols, panel_size, show_legend, size, y_label, pvalue_template, boxplot_properties, palette, return_fig)\u001b[39m\n\u001b[32m    574\u001b[39m groups = \u001b[38;5;28mself\u001b[39m.adata.obs[groupby].unique()\n\u001b[32m    575\u001b[39m \u001b[38;5;28;01mif\u001b[39;00m \u001b[38;5;28mlen\u001b[39m(groups) != \u001b[32m2\u001b[39m:\n\u001b[32m--> \u001b[39m\u001b[32m576\u001b[39m     \u001b[38;5;28;01mraise\u001b[39;00m \u001b[38;5;167;01mValueError\u001b[39;00m(\u001b[33m\"\u001b[39m\u001b[33mThe number of groups in the group_by column must be exactly 2 to enable paired testing\u001b[39m\u001b[33m\"\u001b[39m)\n\u001b[32m    578\u001b[39m \u001b[38;5;28;01mif\u001b[39;00m var_names \u001b[38;5;129;01mis\u001b[39;00m \u001b[38;5;28;01mNone\u001b[39;00m:\n\u001b[32m    579\u001b[39m     var_names = \u001b[38;5;28mself\u001b[39m.res.head(n_top_vars)[\u001b[38;5;28mself\u001b[39m.var_col].tolist()\n",
      "\u001b[31mValueError\u001b[39m: The number of groups in the group_by column must be exactly 2 to enable paired testing"
     ]
    }
   ],
   "source": [
    "de_res.plot_paired(\"louvain\", \"sample\")"
   ]
  },
  {
   "cell_type": "code",
   "execution_count": null,
   "metadata": {},
   "outputs": [],
   "source": []
  }
 ],
 "metadata": {
  "kernelspec": {
   "display_name": ".venv",
   "language": "python",
   "name": "python3"
  },
  "language_info": {
   "codemirror_mode": {
    "name": "ipython",
    "version": 3
   },
   "file_extension": ".py",
   "mimetype": "text/x-python",
   "name": "python",
   "nbconvert_exporter": "python",
   "pygments_lexer": "ipython3",
   "version": "3.11.10"
  }
 },
 "nbformat": 4,
 "nbformat_minor": 4
}

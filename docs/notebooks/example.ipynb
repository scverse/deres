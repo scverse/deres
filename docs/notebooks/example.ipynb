{
 "cells": [
  {
   "cell_type": "markdown",
   "metadata": {},
   "source": [
    "# Example notebook"
   ]
  },
  {
   "cell_type": "code",
   "execution_count": 1,
   "metadata": {},
   "outputs": [],
   "source": [
    "%load_ext autoreload\n",
    "%autoreload 2"
   ]
  },
  {
   "cell_type": "code",
   "execution_count": 2,
   "metadata": {},
   "outputs": [
    {
     "name": "stderr",
     "output_type": "stream",
     "text": [
      "/home/sturm/projects/scverse/deres/.venv/lib/python3.11/site-packages/tqdm/auto.py:21: TqdmWarning: IProgress not found. Please update jupyter and ipywidgets. See https://ipywidgets.readthedocs.io/en/stable/user_install.html\n",
      "  from .autonotebook import tqdm as notebook_tqdm\n"
     ]
    }
   ],
   "source": [
    "import pertpy\n",
    "from deres import DEResult\n",
    "import scanpy as sc\n",
    "import numpy as np\n",
    "import pandas as pd"
   ]
  },
  {
   "cell_type": "code",
   "execution_count": 3,
   "metadata": {},
   "outputs": [],
   "source": [
    "adata = sc.datasets.pbmc3k_processed()"
   ]
  },
  {
   "cell_type": "code",
   "execution_count": 4,
   "metadata": {},
   "outputs": [],
   "source": [
    "adata.obs[\"sample\"] = pd.Categorical(np.random.randint(0, 10, adata.shape[0]))\n",
    "adata = sc.AnnData(adata.raw.X, obs=adata.obs, var=adata.raw.var)"
   ]
  },
  {
   "cell_type": "code",
   "execution_count": 5,
   "metadata": {},
   "outputs": [
    {
     "data": {
      "application/vnd.microsoft.datawrangler.viewer.v0+json": {
       "columns": [
        {
         "name": "index",
         "rawType": "object",
         "type": "string"
        },
        {
         "name": "n_genes",
         "rawType": "int64",
         "type": "integer"
        },
        {
         "name": "percent_mito",
         "rawType": "float32",
         "type": "float"
        },
        {
         "name": "n_counts",
         "rawType": "float32",
         "type": "float"
        },
        {
         "name": "louvain",
         "rawType": "category",
         "type": "unknown"
        },
        {
         "name": "sample",
         "rawType": "category",
         "type": "unknown"
        }
       ],
       "conversionMethod": "pd.DataFrame",
       "ref": "2a2659a3-0deb-48b2-9a80-efdbb7e28342",
       "rows": [
        [
         "AAACATACAACCAC-1",
         "781",
         "0.030177759",
         "2419.0",
         "CD4 T cells",
         "0"
        ],
        [
         "AAACATTGAGCTAC-1",
         "1352",
         "0.037935957",
         "4903.0",
         "B cells",
         "7"
        ],
        [
         "AAACATTGATCAGC-1",
         "1131",
         "0.008897362",
         "3147.0",
         "CD4 T cells",
         "6"
        ],
        [
         "AAACCGTGCTTCCG-1",
         "960",
         "0.017430846",
         "2639.0",
         "CD14+ Monocytes",
         "3"
        ],
        [
         "AAACCGTGTATGCG-1",
         "522",
         "0.012244898",
         "980.0",
         "NK cells",
         "1"
        ],
        [
         "AAACGCACTGGTAC-1",
         "782",
         "0.01664355",
         "2163.0",
         "CD8 T cells",
         "7"
        ],
        [
         "AAACGCTGACCAGT-1",
         "783",
         "0.03816092",
         "2175.0",
         "CD8 T cells",
         "2"
        ],
        [
         "AAACGCTGGTTCTT-1",
         "790",
         "0.030973451",
         "2260.0",
         "CD8 T cells",
         "4"
        ],
        [
         "AAACGCTGTAGCCA-1",
         "533",
         "0.011764706",
         "1275.0",
         "CD4 T cells",
         "6"
        ],
        [
         "AAACGCTGTTTCTG-1",
         "550",
         "0.029011786",
         "1103.0",
         "FCGR3A+ Monocytes",
         "5"
        ],
        [
         "AAACTTGAAAAACG-1",
         "1116",
         "0.02631579",
         "3914.0",
         "B cells",
         "2"
        ],
        [
         "AAACTTGATCCAGA-1",
         "751",
         "0.010887772",
         "2388.0",
         "CD4 T cells",
         "5"
        ],
        [
         "AAAGAGACGAGATA-1",
         "866",
         "0.010788382",
         "2410.0",
         "CD4 T cells",
         "8"
        ],
        [
         "AAAGAGACGCGAGA-1",
         "1059",
         "0.014177382",
         "3033.0",
         "CD14+ Monocytes",
         "6"
        ],
        [
         "AAAGAGACGGACTT-1",
         "458",
         "0.023457862",
         "1151.0",
         "CD8 T cells",
         "1"
        ],
        [
         "AAAGAGACGGCATT-1",
         "335",
         "0.0239899",
         "792.0",
         "CD4 T cells",
         "7"
        ],
        [
         "AAAGCAGATATCGG-1",
         "1424",
         "0.013961606",
         "4584.0",
         "CD14+ Monocytes",
         "7"
        ],
        [
         "AAAGCCTGTATGCG-1",
         "1014",
         "0.017076503",
         "2928.0",
         "CD4 T cells",
         "5"
        ],
        [
         "AAAGGCCTGTCTAG-1",
         "1446",
         "0.015282526",
         "4973.0",
         "B cells",
         "1"
        ],
        [
         "AAAGTTTGATCACG-1",
         "446",
         "0.034700315",
         "1268.0",
         "B cells",
         "0"
        ],
        [
         "AAAGTTTGGGGTGA-1",
         "1020",
         "0.025906736",
         "3281.0",
         "B cells",
         "3"
        ],
        [
         "AAAGTTTGTAGAGA-1",
         "417",
         "0.015426497",
         "1102.0",
         "CD4 T cells",
         "4"
        ],
        [
         "AAAGTTTGTAGCGT-1",
         "878",
         "0.024972046",
         "2683.0",
         "CD14+ Monocytes",
         "3"
        ],
        [
         "AAATCAACAATGCC-1",
         "789",
         "0.01164295",
         "2319.0",
         "B cells",
         "2"
        ],
        [
         "AAATCAACACCAGT-1",
         "510",
         "0.019830028",
         "1412.0",
         "CD4 T cells",
         "0"
        ],
        [
         "AAATCAACCAGGAG-1",
         "824",
         "0.0225",
         "2800.0",
         "CD4 T cells",
         "2"
        ],
        [
         "AAATCAACCCTATT-1",
         "1545",
         "0.024312897",
         "5676.0",
         "CD4 T cells",
         "0"
        ],
        [
         "AAATCAACGGAAGC-1",
         "996",
         "0.017564066",
         "3473.0",
         "CD4 T cells",
         "1"
        ],
        [
         "AAATCAACTCGCAA-1",
         "937",
         "0.018498754",
         "2811.0",
         "CD4 T cells",
         "9"
        ],
        [
         "AAATCATGACCACA-1",
         "1368",
         "0.045784883",
         "4128.0",
         "FCGR3A+ Monocytes",
         "6"
        ],
        [
         "AAATCCCTCCACAA-1",
         "428",
         "0.019895287",
         "955.0",
         "CD8 T cells",
         "3"
        ],
        [
         "AAATCCCTGCTATG-1",
         "406",
         "0.01703163",
         "822.0",
         "B cells",
         "0"
        ],
        [
         "AAATGTTGAACGAA-1",
         "1020",
         "0.019326683",
         "3208.0",
         "CD14+ Monocytes",
         "9"
        ],
        [
         "AAATGTTGCCACAA-1",
         "786",
         "0.00625",
         "1760.0",
         "CD4 T cells",
         "7"
        ],
        [
         "AAATGTTGTGGCAT-1",
         "1019",
         "0.019195944",
         "2761.0",
         "CD14+ Monocytes",
         "5"
        ],
        [
         "AAATTCGAAGGTTC-1",
         "750",
         "0.022262774",
         "2740.0",
         "CD4 T cells",
         "1"
        ],
        [
         "AAATTCGAATCACG-1",
         "822",
         "0.01986755",
         "2567.0",
         "CD14+ Monocytes",
         "0"
        ],
        [
         "AAATTCGAGCTGAT-1",
         "982",
         "0.021892894",
         "2969.0",
         "FCGR3A+ Monocytes",
         "6"
        ],
        [
         "AAATTCGAGGAGTG-1",
         "876",
         "0.024848891",
         "2978.0",
         "CD4 T cells",
         "2"
        ],
        [
         "AAATTCGATTCTCA-1",
         "930",
         "0.01438849",
         "2641.0",
         "CD8 T cells",
         "9"
        ],
        [
         "AAATTGACACGACT-1",
         "838",
         "0.021213407",
         "2357.0",
         "CD8 T cells",
         "1"
        ],
        [
         "AAATTGACTCGCTC-1",
         "1014",
         "0.014951627",
         "3411.0",
         "CD8 T cells",
         "7"
        ],
        [
         "AACAAACTCATTTC-1",
         "732",
         "0.014233242",
         "2178.0",
         "CD4 T cells",
         "3"
        ],
        [
         "AACAAACTTTCGTT-1",
         "877",
         "0.017113095",
         "2688.0",
         "CD4 T cells",
         "4"
        ],
        [
         "AACAATACGACGAG-1",
         "782",
         "0.029942965",
         "2104.0",
         "CD4 T cells",
         "4"
        ],
        [
         "AACACGTGCAGAGG-1",
         "787",
         "0.00889383",
         "1799.0",
         "CD4 T cells",
         "3"
        ],
        [
         "AACACGTGGAAAGT-1",
         "791",
         "0.010270065",
         "2629.0",
         "CD4 T cells",
         "0"
        ],
        [
         "AACACGTGGAACCT-1",
         "880",
         "0.022368422",
         "2280.0",
         "CD14+ Monocytes",
         "4"
        ],
        [
         "AACACGTGGCTACA-1",
         "801",
         "0.02413273",
         "2652.0",
         "CD4 T cells",
         "9"
        ],
        [
         "AACACGTGTACGAC-1",
         "1215",
         "0.027458671",
         "3569.0",
         "FCGR3A+ Monocytes",
         "4"
        ]
       ],
       "shape": {
        "columns": 5,
        "rows": 2638
       }
      },
      "text/html": [
       "<div>\n",
       "<style scoped>\n",
       "    .dataframe tbody tr th:only-of-type {\n",
       "        vertical-align: middle;\n",
       "    }\n",
       "\n",
       "    .dataframe tbody tr th {\n",
       "        vertical-align: top;\n",
       "    }\n",
       "\n",
       "    .dataframe thead th {\n",
       "        text-align: right;\n",
       "    }\n",
       "</style>\n",
       "<table border=\"1\" class=\"dataframe\">\n",
       "  <thead>\n",
       "    <tr style=\"text-align: right;\">\n",
       "      <th></th>\n",
       "      <th>n_genes</th>\n",
       "      <th>percent_mito</th>\n",
       "      <th>n_counts</th>\n",
       "      <th>louvain</th>\n",
       "      <th>sample</th>\n",
       "    </tr>\n",
       "    <tr>\n",
       "      <th>index</th>\n",
       "      <th></th>\n",
       "      <th></th>\n",
       "      <th></th>\n",
       "      <th></th>\n",
       "      <th></th>\n",
       "    </tr>\n",
       "  </thead>\n",
       "  <tbody>\n",
       "    <tr>\n",
       "      <th>AAACATACAACCAC-1</th>\n",
       "      <td>781</td>\n",
       "      <td>0.030178</td>\n",
       "      <td>2419.0</td>\n",
       "      <td>CD4 T cells</td>\n",
       "      <td>0</td>\n",
       "    </tr>\n",
       "    <tr>\n",
       "      <th>AAACATTGAGCTAC-1</th>\n",
       "      <td>1352</td>\n",
       "      <td>0.037936</td>\n",
       "      <td>4903.0</td>\n",
       "      <td>B cells</td>\n",
       "      <td>7</td>\n",
       "    </tr>\n",
       "    <tr>\n",
       "      <th>AAACATTGATCAGC-1</th>\n",
       "      <td>1131</td>\n",
       "      <td>0.008897</td>\n",
       "      <td>3147.0</td>\n",
       "      <td>CD4 T cells</td>\n",
       "      <td>6</td>\n",
       "    </tr>\n",
       "    <tr>\n",
       "      <th>AAACCGTGCTTCCG-1</th>\n",
       "      <td>960</td>\n",
       "      <td>0.017431</td>\n",
       "      <td>2639.0</td>\n",
       "      <td>CD14+ Monocytes</td>\n",
       "      <td>3</td>\n",
       "    </tr>\n",
       "    <tr>\n",
       "      <th>AAACCGTGTATGCG-1</th>\n",
       "      <td>522</td>\n",
       "      <td>0.012245</td>\n",
       "      <td>980.0</td>\n",
       "      <td>NK cells</td>\n",
       "      <td>1</td>\n",
       "    </tr>\n",
       "    <tr>\n",
       "      <th>...</th>\n",
       "      <td>...</td>\n",
       "      <td>...</td>\n",
       "      <td>...</td>\n",
       "      <td>...</td>\n",
       "      <td>...</td>\n",
       "    </tr>\n",
       "    <tr>\n",
       "      <th>TTTCGAACTCTCAT-1</th>\n",
       "      <td>1155</td>\n",
       "      <td>0.021104</td>\n",
       "      <td>3459.0</td>\n",
       "      <td>CD14+ Monocytes</td>\n",
       "      <td>4</td>\n",
       "    </tr>\n",
       "    <tr>\n",
       "      <th>TTTCTACTGAGGCA-1</th>\n",
       "      <td>1227</td>\n",
       "      <td>0.009294</td>\n",
       "      <td>3443.0</td>\n",
       "      <td>B cells</td>\n",
       "      <td>8</td>\n",
       "    </tr>\n",
       "    <tr>\n",
       "      <th>TTTCTACTTCCTCG-1</th>\n",
       "      <td>622</td>\n",
       "      <td>0.021971</td>\n",
       "      <td>1684.0</td>\n",
       "      <td>B cells</td>\n",
       "      <td>1</td>\n",
       "    </tr>\n",
       "    <tr>\n",
       "      <th>TTTGCATGAGAGGC-1</th>\n",
       "      <td>454</td>\n",
       "      <td>0.020548</td>\n",
       "      <td>1022.0</td>\n",
       "      <td>B cells</td>\n",
       "      <td>0</td>\n",
       "    </tr>\n",
       "    <tr>\n",
       "      <th>TTTGCATGCCTCAC-1</th>\n",
       "      <td>724</td>\n",
       "      <td>0.008065</td>\n",
       "      <td>1984.0</td>\n",
       "      <td>CD4 T cells</td>\n",
       "      <td>1</td>\n",
       "    </tr>\n",
       "  </tbody>\n",
       "</table>\n",
       "<p>2638 rows × 5 columns</p>\n",
       "</div>"
      ],
      "text/plain": [
       "                  n_genes  percent_mito  n_counts          louvain sample\n",
       "index                                                                    \n",
       "AAACATACAACCAC-1      781      0.030178    2419.0      CD4 T cells      0\n",
       "AAACATTGAGCTAC-1     1352      0.037936    4903.0          B cells      7\n",
       "AAACATTGATCAGC-1     1131      0.008897    3147.0      CD4 T cells      6\n",
       "AAACCGTGCTTCCG-1      960      0.017431    2639.0  CD14+ Monocytes      3\n",
       "AAACCGTGTATGCG-1      522      0.012245     980.0         NK cells      1\n",
       "...                   ...           ...       ...              ...    ...\n",
       "TTTCGAACTCTCAT-1     1155      0.021104    3459.0  CD14+ Monocytes      4\n",
       "TTTCTACTGAGGCA-1     1227      0.009294    3443.0          B cells      8\n",
       "TTTCTACTTCCTCG-1      622      0.021971    1684.0          B cells      1\n",
       "TTTGCATGAGAGGC-1      454      0.020548    1022.0          B cells      0\n",
       "TTTGCATGCCTCAC-1      724      0.008065    1984.0      CD4 T cells      1\n",
       "\n",
       "[2638 rows x 5 columns]"
      ]
     },
     "execution_count": 5,
     "metadata": {},
     "output_type": "execute_result"
    }
   ],
   "source": [
    "adata.obs"
   ]
  },
  {
   "cell_type": "code",
   "execution_count": 6,
   "metadata": {},
   "outputs": [],
   "source": [
    "pb = sc.get.aggregate(adata, [\"sample\", \"louvain\"], \"mean\")"
   ]
  },
  {
   "cell_type": "code",
   "execution_count": 7,
   "metadata": {},
   "outputs": [
    {
     "data": {
      "text/plain": [
       "AnnData object with n_obs × n_vars = 2638 × 13714\n",
       "    obs: 'n_genes', 'percent_mito', 'n_counts', 'louvain', 'sample'\n",
       "    var: 'n_cells'"
      ]
     },
     "execution_count": 7,
     "metadata": {},
     "output_type": "execute_result"
    }
   ],
   "source": [
    "adata"
   ]
  },
  {
   "cell_type": "code",
   "execution_count": 8,
   "metadata": {},
   "outputs": [
    {
     "data": {
      "text/plain": [
       "array([[0.        , 0.00722028, 0.        , ..., 0.00722028, 0.03310473,\n",
       "        0.00722028],\n",
       "       [0.        , 0.        , 0.        , ..., 0.01414586, 0.01414586,\n",
       "        0.        ],\n",
       "       [0.        , 0.        , 0.        , ..., 0.02100446, 0.        ,\n",
       "        0.04200892],\n",
       "       ...,\n",
       "       [0.        , 0.        , 0.        , ..., 0.        , 0.        ,\n",
       "        0.        ],\n",
       "       [0.        , 0.        , 0.        , ..., 0.        , 0.        ,\n",
       "        0.        ],\n",
       "       [0.        , 0.        , 0.        , ..., 0.        , 0.        ,\n",
       "        0.        ]])"
      ]
     },
     "execution_count": 8,
     "metadata": {},
     "output_type": "execute_result"
    }
   ],
   "source": [
    "pb.layers[\"mean\"]"
   ]
  },
  {
   "cell_type": "code",
   "execution_count": 9,
   "metadata": {},
   "outputs": [
    {
     "name": "stderr",
     "output_type": "stream",
     "text": [
      "100%|██████████| 13714/13714 [00:11<00:00, 1185.96it/s]\n"
     ]
    }
   ],
   "source": [
    "mod = pertpy.tl.Statsmodels(pb, design=\"~ louvain\", layer=\"mean\")\n",
    "mod.fit()"
   ]
  },
  {
   "cell_type": "code",
   "execution_count": 10,
   "metadata": {},
   "outputs": [
    {
     "name": "stderr",
     "output_type": "stream",
     "text": [
      "100%|██████████| 13714/13714 [00:01<00:00, 10685.93it/s]\n"
     ]
    }
   ],
   "source": [
    "res = mod.test_contrasts({\"CD8_vs_CD4\": mod.cond(louvain=\"CD8 T cells\") - mod.cond(louvain=\"CD4 T cells\")})"
   ]
  },
  {
   "cell_type": "code",
   "execution_count": 11,
   "metadata": {},
   "outputs": [
    {
     "data": {
      "application/vnd.microsoft.datawrangler.viewer.v0+json": {
       "columns": [
        {
         "name": "index",
         "rawType": "int64",
         "type": "integer"
        },
        {
         "name": "variable",
         "rawType": "object",
         "type": "string"
        },
        {
         "name": "p_value",
         "rawType": "object",
         "type": "unknown"
        },
        {
         "name": "t_value",
         "rawType": "float64",
         "type": "float"
        },
        {
         "name": "sd",
         "rawType": "float64",
         "type": "float"
        },
        {
         "name": "log_fc",
         "rawType": "float64",
         "type": "float"
        },
        {
         "name": "adj_p_value",
         "rawType": "float64",
         "type": "float"
        },
        {
         "name": "contrast",
         "rawType": "object",
         "type": "string"
        }
       ],
       "conversionMethod": "pd.DataFrame",
       "ref": "4e6d2bf2-f7ef-46b8-bbb0-4dc0d6b5b2e1",
       "rows": [
        [
         "13001",
         "NKG7",
         "1.6818550715162358e-31",
         "20.65607795581201",
         "0.08494656445022768",
         "1.754662857362312",
         "1.6818550715162358e-31",
         "CD8_vs_CD4"
        ],
        [
         "11083",
         "CCL5",
         "1.5679378087397538e-30",
         "19.901071149148088",
         "0.09102132872043535",
         "1.8114219389553803",
         "1.5679378087397538e-30",
         "CD8_vs_CD4"
        ],
        [
         "11879",
         "CST7",
         "8.852244689571697e-27",
         "17.157303390971368",
         "0.05083117952555188",
         "0.8721259688408255",
         "8.852244689571697e-27",
         "CD8_vs_CD4"
        ],
        [
         "3695",
         "GZMA",
         "4.320840028518062e-25",
         "16.005970957375844",
         "0.05136734000991036",
         "0.8221841523562754",
         "4.320840028518062e-25",
         "CD8_vs_CD4"
        ],
        [
         "9292",
         "GZMH",
         "5.101918523190993e-23",
         "14.655386505103621",
         "0.04096747530899764",
         "0.6003941847916499",
         "5.101918523190993e-23",
         "CD8_vs_CD4"
        ],
        [
         "3694",
         "GZMK",
         "2.9206535249162223e-22",
         "14.177244275683135",
         "0.051165719037395564",
         "0.7253888973341278",
         "2.9206535249162223e-22",
         "CD8_vs_CD4"
        ],
        [
         "4219",
         "ADTRP",
         "6.257680832107796e-21",
         "-13.356095249573126",
         "0.004154119416605026",
         "-0.05548281460627788",
         "6.257680832107796e-21",
         "CD8_vs_CD4"
        ],
        [
         "7152",
         "PRF1",
         "8.464107081307837e-20",
         "12.675530688100404",
         "0.032313956887488296",
         "0.40959655218131125",
         "8.464107081307837e-20",
         "CD8_vs_CD4"
        ],
        [
         "7873",
         "CTSW",
         "9.657704155628529e-20",
         "12.641457411605625",
         "0.056896668121306636",
         "0.7192568069177573",
         "9.657704155628529e-20",
         "CD8_vs_CD4"
        ],
        [
         "1815",
         "CD8A",
         "1.2840471482269658e-19",
         "12.568011787643382",
         "0.03018388821999452",
         "0.37935146294580135",
         "1.2840471482269658e-19",
         "CD8_vs_CD4"
        ],
        [
         "11147",
         "CCR7",
         "7.225414791378911e-19",
         "-12.126146384547791",
         "0.020782495274657014",
         "-0.2520115799366637",
         "7.225414791378911e-19",
         "CD8_vs_CD4"
        ],
        [
         "1827",
         "MAL",
         "4.701368028734394e-18",
         "-11.653715046958338",
         "0.016228108271049056",
         "-0.18911774954199345",
         "4.701368028734394e-18",
         "CD8_vs_CD4"
        ],
        [
         "12122",
         "LINC00176",
         "2.9951958282738183e-17",
         "-11.19279973506862",
         "0.006704866266153078",
         "-0.0750462253674687",
         "2.9951958282738183e-17",
         "CD8_vs_CD4"
        ],
        [
         "5872",
         "CD40LG",
         "5.947653024007048e-17",
         "-11.02350024775696",
         "0.01106961464808835",
         "-0.12202589981577601",
         "5.947653024007048e-17",
         "CD8_vs_CD4"
        ],
        [
         "8333",
         "KLRG1",
         "1.1621470418101858e-15",
         "10.298010876082747",
         "0.0336209391474297",
         "0.3462287970043473",
         "1.1621470418101858e-15",
         "CD8_vs_CD4"
        ],
        [
         "9129",
         "KLF5",
         "2.925748433675591e-15",
         "-10.075065652501296",
         "0.0007108192373933165",
         "-0.007161550483798567",
         "2.925748433675591e-15",
         "CD8_vs_CD4"
        ],
        [
         "8297",
         "LAG3",
         "4.258273101642021e-15",
         "9.984727042084577",
         "0.012548539304812605",
         "0.12529373973542363",
         "4.258273101642021e-15",
         "CD8_vs_CD4"
        ],
        [
         "3287",
         "HOPX",
         "8.63142751442877e-15",
         "9.815083882525999",
         "0.03249131985056042",
         "0.31890502978723256",
         "8.63142751442877e-15",
         "CD8_vs_CD4"
        ],
        [
         "8536",
         "KRT1",
         "1.7498157664674813e-14",
         "-9.645926339060246",
         "0.0025672160806566933",
         "-0.02476317721046541",
         "1.7498157664674813e-14",
         "CD8_vs_CD4"
        ],
        [
         "3167",
         "JAKMIP1",
         "4.7458127368397756e-14",
         "9.407898564957867",
         "0.005328869564394992",
         "0.0501334643277193",
         "4.7458127368397756e-14",
         "CD8_vs_CD4"
        ],
        [
         "12227",
         "MATK",
         "1.1284527699443058e-13",
         "9.201935482429214",
         "0.018122846018283047",
         "0.16676525981823975",
         "1.1284527699443058e-13",
         "CD8_vs_CD4"
        ],
        [
         "11752",
         "GTSCR1",
         "2.36096209958277e-13",
         "-9.026823183981659",
         "0.0007126612329850862",
         "-0.00643306694023473",
         "2.36096209958277e-13",
         "CD8_vs_CD4"
        ],
        [
         "6969",
         "PRKCQ-AS1",
         "3.0436375317352736e-13",
         "-8.96665602921506",
         "0.016009312089622262",
         "-0.143549994771997",
         "3.0436375317352736e-13",
         "CD8_vs_CD4"
        ],
        [
         "10645",
         "SDR42E1",
         "3.7573459953769503e-13",
         "-8.916780468008126",
         "0.0006778935825363657",
         "-0.006044628256148319",
         "3.7573459953769503e-13",
         "CD8_vs_CD4"
        ],
        [
         "3160",
         "LYAR",
         "4.771768001689546e-13",
         "8.860223283994525",
         "0.04624262733739961",
         "0.4097200034479098",
         "4.771768001689546e-13",
         "CD8_vs_CD4"
        ],
        [
         "12132",
         "GZMM",
         "1.6415253134421612e-12",
         "8.568277673152636",
         "0.03839534801856104",
         "0.32898200318036186",
         "1.6415253134421612e-12",
         "CD8_vs_CD4"
        ],
        [
         "1819",
         "RP11-1399P15.1",
         "8.32611519946433e-12",
         "-8.18526464338007",
         "0.0036533722842230854",
         "-0.029903818987155904",
         "8.32611519946433e-12",
         "CD8_vs_CD4"
        ],
        [
         "8268",
         "RP11-664D1.1",
         "1.9749801791576618e-11",
         "-7.981611269963963",
         "0.005569449089086801",
         "-0.04445317761694574",
         "1.9749801791576618e-11",
         "CD8_vs_CD4"
        ],
        [
         "3201",
         "FGFBP2",
         "2.6323829651418742e-11",
         "7.913849338916024",
         "0.03888797937008975",
         "0.30775360982976474",
         "2.6323829651418742e-11",
         "CD8_vs_CD4"
        ],
        [
         "13355",
         "PIK3IP1",
         "3.321491293418691e-11",
         "-7.859001512658839",
         "0.02519088929707281",
         "-0.19797523709091658",
         "3.321491293418691e-11",
         "CD8_vs_CD4"
        ],
        [
         "9653",
         "CRIP2",
         "6.32768552616041e-11",
         "-7.706897404844304",
         "0.007450565573714508",
         "-0.057420744484682665",
         "6.32768552616041e-11",
         "CD8_vs_CD4"
        ],
        [
         "10103",
         "RP11-161M6.2",
         "1.1727346701177793e-10",
         "-7.561146109239551",
         "0.0010250139738086402",
         "-0.007750280419979371",
         "1.1727346701177793e-10",
         "CD8_vs_CD4"
        ],
        [
         "8225",
         "TMEM45B",
         "1.2366725377214607e-10",
         "-7.548597256158791",
         "0.0007142778428318393",
         "-0.005391795764535442",
         "1.2366725377214607e-10",
         "CD8_vs_CD4"
        ],
        [
         "11482",
         "ST6GALNAC1",
         "1.67679167034055e-10",
         "-7.476597617650236",
         "0.0007273423304870782",
         "-0.005438045935335859",
         "1.67679167034055e-10",
         "CD8_vs_CD4"
        ],
        [
         "4897",
         "GPR146",
         "1.6948082433400884e-10",
         "-7.474069254640506",
         "0.0016007528793524175",
         "-0.011964137879845167",
         "1.6948082433400884e-10",
         "CD8_vs_CD4"
        ],
        [
         "2781",
         "TIGIT",
         "1.7554700057925207e-10",
         "7.465749124029528",
         "0.02030114862005573",
         "0.15156328252697432",
         "1.7554700057925207e-10",
         "CD8_vs_CD4"
        ],
        [
         "6031",
         "EPHX2",
         "2.0373964105693456e-10",
         "-7.4305040158690066",
         "0.007536204657472195",
         "-0.055997798971757856",
         "2.0373964105693456e-10",
         "CD8_vs_CD4"
        ],
        [
         "10174",
         "RP11-473M20.16",
         "7.711830937322787e-10",
         "-7.114774303088361",
         "0.0005153547267667448",
         "-0.003666632566975159",
         "7.711830937322787e-10",
         "CD8_vs_CD4"
        ],
        [
         "4367",
         "LTB",
         "1.011295555437052e-09",
         "-7.050283631051026",
         "0.09610338984957519",
         "-0.6775561563449752",
         "1.011295555437052e-09",
         "CD8_vs_CD4"
        ],
        [
         "8338",
         "KLRB1",
         "1.938856168491086e-09",
         "6.895096646483751",
         "0.01465473547202655",
         "0.10104581740827673",
         "1.938856168491086e-09",
         "CD8_vs_CD4"
        ],
        [
         "7936",
         "RP11-119D9.1",
         "2.831472211228706e-09",
         "-6.804560433046772",
         "0.0009008660448292935",
         "-0.0061299974441207505",
         "2.831472211228706e-09",
         "CD8_vs_CD4"
        ],
        [
         "4369",
         "NCR3",
         "5.507327678566297e-09",
         "6.645014922509992",
         "0.02991193219479493",
         "0.19876523579551936",
         "5.507327678566297e-09",
         "CD8_vs_CD4"
        ],
        [
         "1788",
         "TRABD2A",
         "9.77872039473244e-09",
         "-6.506756286304274",
         "0.015953526636750304",
         "-0.10380570973239772",
         "9.77872039473244e-09",
         "CD8_vs_CD4"
        ],
        [
         "10015",
         "HAPLN3",
         "1.3171890639247102e-08",
         "-6.434789784274886",
         "0.00563199397194972",
         "-0.0362406972757998",
         "1.3171890639247102e-08",
         "CD8_vs_CD4"
        ],
        [
         "15",
         "TNFRSF4",
         "1.4854952570589505e-08",
         "-6.405689584204453",
         "0.011734606870925085",
         "-0.07516824900781882",
         "1.4854952570589505e-08",
         "CD8_vs_CD4"
        ],
        [
         "1803",
         "GNLY",
         "1.764081661833549e-08",
         "6.364043651107159",
         "0.06341948372119112",
         "0.4036043627323402",
         "1.764081661833549e-08",
         "CD8_vs_CD4"
        ],
        [
         "10168",
         "IL32",
         "2.5342055290304668e-08",
         "6.276070219530604",
         "0.06136537440181296",
         "0.38513339879356395",
         "2.5342055290304668e-08",
         "CD8_vs_CD4"
        ],
        [
         "1452",
         "AC092580.4",
         "7.205748765413465e-08",
         "6.0205806956055525",
         "0.01213006992338267",
         "0.07303006481706321",
         "7.205748765413465e-08",
         "CD8_vs_CD4"
        ],
        [
         "4754",
         "SAMD3",
         "8.032910015110114e-08",
         "5.993852431123418",
         "0.03199305621658089",
         "0.19176165778282156",
         "8.032910015110114e-08",
         "CD8_vs_CD4"
        ],
        [
         "2182",
         "ICOS",
         "9.335646293634892e-08",
         "-5.956831901069678",
         "0.006928935258942735",
         "-0.04127450259091657",
         "9.335646293634892e-08",
         "CD8_vs_CD4"
        ]
       ],
       "shape": {
        "columns": 7,
        "rows": 13714
       }
      },
      "text/html": [
       "<div>\n",
       "<style scoped>\n",
       "    .dataframe tbody tr th:only-of-type {\n",
       "        vertical-align: middle;\n",
       "    }\n",
       "\n",
       "    .dataframe tbody tr th {\n",
       "        vertical-align: top;\n",
       "    }\n",
       "\n",
       "    .dataframe thead th {\n",
       "        text-align: right;\n",
       "    }\n",
       "</style>\n",
       "<table border=\"1\" class=\"dataframe\">\n",
       "  <thead>\n",
       "    <tr style=\"text-align: right;\">\n",
       "      <th></th>\n",
       "      <th>variable</th>\n",
       "      <th>p_value</th>\n",
       "      <th>t_value</th>\n",
       "      <th>sd</th>\n",
       "      <th>log_fc</th>\n",
       "      <th>adj_p_value</th>\n",
       "      <th>contrast</th>\n",
       "    </tr>\n",
       "  </thead>\n",
       "  <tbody>\n",
       "    <tr>\n",
       "      <th>13001</th>\n",
       "      <td>NKG7</td>\n",
       "      <td>1.6818550715162358e-31</td>\n",
       "      <td>2.065608e+01</td>\n",
       "      <td>0.084947</td>\n",
       "      <td>1.754663e+00</td>\n",
       "      <td>1.681855e-31</td>\n",
       "      <td>CD8_vs_CD4</td>\n",
       "    </tr>\n",
       "    <tr>\n",
       "      <th>11083</th>\n",
       "      <td>CCL5</td>\n",
       "      <td>1.5679378087397538e-30</td>\n",
       "      <td>1.990107e+01</td>\n",
       "      <td>0.091021</td>\n",
       "      <td>1.811422e+00</td>\n",
       "      <td>1.567938e-30</td>\n",
       "      <td>CD8_vs_CD4</td>\n",
       "    </tr>\n",
       "    <tr>\n",
       "      <th>11879</th>\n",
       "      <td>CST7</td>\n",
       "      <td>8.852244689571697e-27</td>\n",
       "      <td>1.715730e+01</td>\n",
       "      <td>0.050831</td>\n",
       "      <td>8.721260e-01</td>\n",
       "      <td>8.852245e-27</td>\n",
       "      <td>CD8_vs_CD4</td>\n",
       "    </tr>\n",
       "    <tr>\n",
       "      <th>3695</th>\n",
       "      <td>GZMA</td>\n",
       "      <td>4.320840028518062e-25</td>\n",
       "      <td>1.600597e+01</td>\n",
       "      <td>0.051367</td>\n",
       "      <td>8.221842e-01</td>\n",
       "      <td>4.320840e-25</td>\n",
       "      <td>CD8_vs_CD4</td>\n",
       "    </tr>\n",
       "    <tr>\n",
       "      <th>9292</th>\n",
       "      <td>GZMH</td>\n",
       "      <td>5.101918523190993e-23</td>\n",
       "      <td>1.465539e+01</td>\n",
       "      <td>0.040967</td>\n",
       "      <td>6.003942e-01</td>\n",
       "      <td>5.101919e-23</td>\n",
       "      <td>CD8_vs_CD4</td>\n",
       "    </tr>\n",
       "    <tr>\n",
       "      <th>...</th>\n",
       "      <td>...</td>\n",
       "      <td>...</td>\n",
       "      <td>...</td>\n",
       "      <td>...</td>\n",
       "      <td>...</td>\n",
       "      <td>...</td>\n",
       "      <td>...</td>\n",
       "    </tr>\n",
       "    <tr>\n",
       "      <th>8100</th>\n",
       "      <td>COLCA2</td>\n",
       "      <td>1.0</td>\n",
       "      <td>3.770236e-17</td>\n",
       "      <td>0.001420</td>\n",
       "      <td>5.355299e-20</td>\n",
       "      <td>1.000000e+00</td>\n",
       "      <td>CD8_vs_CD4</td>\n",
       "    </tr>\n",
       "    <tr>\n",
       "      <th>5992</th>\n",
       "      <td>GFRA2</td>\n",
       "      <td>1.0</td>\n",
       "      <td>-6.735480e-17</td>\n",
       "      <td>0.009428</td>\n",
       "      <td>-6.350516e-19</td>\n",
       "      <td>1.000000e+00</td>\n",
       "      <td>CD8_vs_CD4</td>\n",
       "    </tr>\n",
       "    <tr>\n",
       "      <th>1891</th>\n",
       "      <td>AC104655.3</td>\n",
       "      <td>1.0</td>\n",
       "      <td>2.738473e-17</td>\n",
       "      <td>0.001952</td>\n",
       "      <td>5.346155e-20</td>\n",
       "      <td>1.000000e+00</td>\n",
       "      <td>CD8_vs_CD4</td>\n",
       "    </tr>\n",
       "    <tr>\n",
       "      <th>12993</th>\n",
       "      <td>KLK1</td>\n",
       "      <td>1.0</td>\n",
       "      <td>5.772808e-17</td>\n",
       "      <td>0.005040</td>\n",
       "      <td>2.909340e-19</td>\n",
       "      <td>1.000000e+00</td>\n",
       "      <td>CD8_vs_CD4</td>\n",
       "    </tr>\n",
       "    <tr>\n",
       "      <th>10744</th>\n",
       "      <td>SCARF1</td>\n",
       "      <td>1.0</td>\n",
       "      <td>6.023663e-17</td>\n",
       "      <td>0.003058</td>\n",
       "      <td>1.842067e-19</td>\n",
       "      <td>1.000000e+00</td>\n",
       "      <td>CD8_vs_CD4</td>\n",
       "    </tr>\n",
       "  </tbody>\n",
       "</table>\n",
       "<p>13714 rows × 7 columns</p>\n",
       "</div>"
      ],
      "text/plain": [
       "         variable                 p_value       t_value        sd  \\\n",
       "13001        NKG7  1.6818550715162358e-31  2.065608e+01  0.084947   \n",
       "11083        CCL5  1.5679378087397538e-30  1.990107e+01  0.091021   \n",
       "11879        CST7   8.852244689571697e-27  1.715730e+01  0.050831   \n",
       "3695         GZMA   4.320840028518062e-25  1.600597e+01  0.051367   \n",
       "9292         GZMH   5.101918523190993e-23  1.465539e+01  0.040967   \n",
       "...           ...                     ...           ...       ...   \n",
       "8100       COLCA2                     1.0  3.770236e-17  0.001420   \n",
       "5992        GFRA2                     1.0 -6.735480e-17  0.009428   \n",
       "1891   AC104655.3                     1.0  2.738473e-17  0.001952   \n",
       "12993        KLK1                     1.0  5.772808e-17  0.005040   \n",
       "10744      SCARF1                     1.0  6.023663e-17  0.003058   \n",
       "\n",
       "             log_fc   adj_p_value    contrast  \n",
       "13001  1.754663e+00  1.681855e-31  CD8_vs_CD4  \n",
       "11083  1.811422e+00  1.567938e-30  CD8_vs_CD4  \n",
       "11879  8.721260e-01  8.852245e-27  CD8_vs_CD4  \n",
       "3695   8.221842e-01  4.320840e-25  CD8_vs_CD4  \n",
       "9292   6.003942e-01  5.101919e-23  CD8_vs_CD4  \n",
       "...             ...           ...         ...  \n",
       "8100   5.355299e-20  1.000000e+00  CD8_vs_CD4  \n",
       "5992  -6.350516e-19  1.000000e+00  CD8_vs_CD4  \n",
       "1891   5.346155e-20  1.000000e+00  CD8_vs_CD4  \n",
       "12993  2.909340e-19  1.000000e+00  CD8_vs_CD4  \n",
       "10744  1.842067e-19  1.000000e+00  CD8_vs_CD4  \n",
       "\n",
       "[13714 rows x 7 columns]"
      ]
     },
     "execution_count": 11,
     "metadata": {},
     "output_type": "execute_result"
    }
   ],
   "source": [
    "res"
   ]
  },
  {
   "cell_type": "code",
   "execution_count": 12,
   "metadata": {},
   "outputs": [],
   "source": [
    "de_res = DEResult(res, adata, p_col=\"p_value\", effect_size_col=\"log_fc\", var_col=\"variable\")"
   ]
  },
  {
   "cell_type": "code",
   "execution_count": 13,
   "metadata": {},
   "outputs": [
    {
     "data": {
      "text/plain": [
       "<deres.deres.DEResult at 0x78ad9e13a5d0>"
      ]
     },
     "execution_count": 13,
     "metadata": {},
     "output_type": "execute_result"
    }
   ],
   "source": [
    "de_res"
   ]
  },
  {
   "cell_type": "code",
   "execution_count": 17,
   "metadata": {},
   "outputs": [
    {
     "data": {
      "application/vnd.microsoft.datawrangler.viewer.v0+json": {
       "columns": [
        {
         "name": "index",
         "rawType": "object",
         "type": "string"
        },
        {
         "name": "total",
         "rawType": "int64",
         "type": "integer"
        },
        {
         "name": "up",
         "rawType": "int64",
         "type": "integer"
        },
        {
         "name": "down",
         "rawType": "int64",
         "type": "integer"
        }
       ],
       "conversionMethod": "pd.DataFrame",
       "ref": "78d95a7a-b9fb-455d-9131-96d9e9e6acbb",
       "rows": [
        [
         "p < 0.1",
         "1037",
         "394",
         "643"
        ],
        [
         "p < 0.05",
         "736",
         "259",
         "477"
        ],
        [
         "p < 0.01",
         "437",
         "133",
         "304"
        ],
        [
         "p < 0.001",
         "265",
         "65",
         "200"
        ],
        [
         "p < 0.0001",
         "153",
         "48",
         "105"
        ]
       ],
       "shape": {
        "columns": 3,
        "rows": 5
       }
      },
      "text/html": [
       "<div>\n",
       "<style scoped>\n",
       "    .dataframe tbody tr th:only-of-type {\n",
       "        vertical-align: middle;\n",
       "    }\n",
       "\n",
       "    .dataframe tbody tr th {\n",
       "        vertical-align: top;\n",
       "    }\n",
       "\n",
       "    .dataframe thead th {\n",
       "        text-align: right;\n",
       "    }\n",
       "</style>\n",
       "<table border=\"1\" class=\"dataframe\">\n",
       "  <thead>\n",
       "    <tr style=\"text-align: right;\">\n",
       "      <th></th>\n",
       "      <th>total</th>\n",
       "      <th>up</th>\n",
       "      <th>down</th>\n",
       "    </tr>\n",
       "  </thead>\n",
       "  <tbody>\n",
       "    <tr>\n",
       "      <th>p &lt; 0.1</th>\n",
       "      <td>1037</td>\n",
       "      <td>394</td>\n",
       "      <td>643</td>\n",
       "    </tr>\n",
       "    <tr>\n",
       "      <th>p &lt; 0.05</th>\n",
       "      <td>736</td>\n",
       "      <td>259</td>\n",
       "      <td>477</td>\n",
       "    </tr>\n",
       "    <tr>\n",
       "      <th>p &lt; 0.01</th>\n",
       "      <td>437</td>\n",
       "      <td>133</td>\n",
       "      <td>304</td>\n",
       "    </tr>\n",
       "    <tr>\n",
       "      <th>p &lt; 0.001</th>\n",
       "      <td>265</td>\n",
       "      <td>65</td>\n",
       "      <td>200</td>\n",
       "    </tr>\n",
       "    <tr>\n",
       "      <th>p &lt; 0.0001</th>\n",
       "      <td>153</td>\n",
       "      <td>48</td>\n",
       "      <td>105</td>\n",
       "    </tr>\n",
       "  </tbody>\n",
       "</table>\n",
       "</div>"
      ],
      "text/plain": [
       "            total   up  down\n",
       "p < 0.1      1037  394   643\n",
       "p < 0.05      736  259   477\n",
       "p < 0.01      437  133   304\n",
       "p < 0.001     265   65   200\n",
       "p < 0.0001    153   48   105"
      ]
     },
     "execution_count": 17,
     "metadata": {},
     "output_type": "execute_result"
    }
   ],
   "source": [
    "de_res.summary()"
   ]
  },
  {
   "cell_type": "code",
   "execution_count": null,
   "metadata": {},
   "outputs": [],
   "source": []
  }
 ],
 "metadata": {
  "kernelspec": {
   "display_name": ".venv",
   "language": "python",
   "name": "python3"
  },
  "language_info": {
   "codemirror_mode": {
    "name": "ipython",
    "version": 3
   },
   "file_extension": ".py",
   "mimetype": "text/x-python",
   "name": "python",
   "nbconvert_exporter": "python",
   "pygments_lexer": "ipython3",
   "version": "3.11.10"
  }
 },
 "nbformat": 4,
 "nbformat_minor": 4
}
